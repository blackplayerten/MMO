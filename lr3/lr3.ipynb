{
  "nbformat": 4,
  "nbformat_minor": 0,
  "metadata": {
    "colab": {
      "name": "lr3.ipynb",
      "provenance": []
    },
    "kernelspec": {
      "name": "python3",
      "display_name": "Python 3"
    },
    "language_info": {
      "name": "python"
    }
  },
  "cells": [
    {
      "cell_type": "markdown",
      "metadata": {
        "id": "k3TAojxvpyQ_"
      },
      "source": [
        "### Лабораторная работа №3: \"Обработка признаков (часть 2)\"\n",
        "#### ИУ5-21 Курганова Александра\n",
        "#### Задание:\n",
        "Выбрать набор данных (датасет), содержащий категориальные и числовые признаки и пропуски в данных.\n",
        "\n",
        "Для выполнения следующих пунктов можно использовать несколько различных наборов данных\n",
        "\n",
        "Для выбранного датасета (датасетов) на основе материалов лекций решить следующие задачи:\n",
        "* масштабирование признаков (не менее чем тремя способами);\n",
        "* обработку выбросов для числовых признаков (по одному способу для удаления \n",
        "* выбросов и для замены выбросов);\n",
        "* обработку по крайней мере одного нестандартного признака (который не является числовым или категориальным);\n",
        "* отбор признаков:\n",
        "** один метод из группы методов фильтрации (filter methods);\n",
        "** один метод из группы методов обертывания (wrapper methods);\n",
        "** один метод из группы методов вложений (embedded methods)."
      ]
    },
    {
      "cell_type": "code",
      "metadata": {
        "colab": {
          "base_uri": "https://localhost:8080/"
        },
        "id": "BhBhPpDJpnKT",
        "outputId": "69b7c62c-15f1-4d0d-948d-02f31a76a1e4"
      },
      "source": [
        "from google.colab import drive\n",
        "drive.mount('/content/drive', force_remount=True)\n",
        "path = \"/content/drive/My Drive/Colab Notebooks/ммо/lr3\""
      ],
      "execution_count": 2,
      "outputs": [
        {
          "output_type": "stream",
          "text": [
            "Mounted at /content/drive\n"
          ],
          "name": "stdout"
        }
      ]
    },
    {
      "cell_type": "code",
      "metadata": {
        "id": "lY7Terb6rFk4"
      },
      "source": [
        "import pandas as pd\n",
        "import matplotlib.pyplot as plt\n",
        "import numpy as np\n",
        "import seaborn as sns\n",
        "import datetime\n",
        "from sklearn.datasets import load_boston\n",
        "from sklearn.model_selection import train_test_split\n",
        "from sklearn.preprocessing import StandardScaler\n",
        "from sklearn.preprocessing import MinMaxScaler\n",
        "from sklearn.preprocessing import RobustScaler\n",
        "from sklearn.preprocessing import MaxAbsScaler\n",
        "import warnings\n",
        "warnings.simplefilter(\"ignore\", UserWarning)"
      ],
      "execution_count": 3,
      "outputs": []
    },
    {
      "cell_type": "code",
      "metadata": {
        "id": "Tfx3cVulrqsv"
      },
      "source": [
        "dataset = pd.read_csv(path+'/wine_dataset.csv')"
      ],
      "execution_count": 4,
      "outputs": []
    },
    {
      "cell_type": "code",
      "metadata": {
        "colab": {
          "base_uri": "https://localhost:8080/",
          "height": 224
        },
        "id": "8GiVjkEBsGYI",
        "outputId": "094b3b4b-ef4f-4c6d-c4fd-5c902cbfd246"
      },
      "source": [
        "dataset.head()"
      ],
      "execution_count": 5,
      "outputs": [
        {
          "output_type": "execute_result",
          "data": {
            "text/html": [
              "<div>\n",
              "<style scoped>\n",
              "    .dataframe tbody tr th:only-of-type {\n",
              "        vertical-align: middle;\n",
              "    }\n",
              "\n",
              "    .dataframe tbody tr th {\n",
              "        vertical-align: top;\n",
              "    }\n",
              "\n",
              "    .dataframe thead th {\n",
              "        text-align: right;\n",
              "    }\n",
              "</style>\n",
              "<table border=\"1\" class=\"dataframe\">\n",
              "  <thead>\n",
              "    <tr style=\"text-align: right;\">\n",
              "      <th></th>\n",
              "      <th>fixed_acidity</th>\n",
              "      <th>volatile_acidity</th>\n",
              "      <th>citric_acid</th>\n",
              "      <th>residual_sugar</th>\n",
              "      <th>chlorides</th>\n",
              "      <th>free_sulfur_dioxide</th>\n",
              "      <th>total_sulfur_dioxide</th>\n",
              "      <th>density</th>\n",
              "      <th>pH</th>\n",
              "      <th>sulphates</th>\n",
              "      <th>alcohol</th>\n",
              "      <th>quality</th>\n",
              "      <th>style</th>\n",
              "    </tr>\n",
              "  </thead>\n",
              "  <tbody>\n",
              "    <tr>\n",
              "      <th>0</th>\n",
              "      <td>7.4</td>\n",
              "      <td>0.70</td>\n",
              "      <td>0.00</td>\n",
              "      <td>1.9</td>\n",
              "      <td>0.076</td>\n",
              "      <td>11.0</td>\n",
              "      <td>34.0</td>\n",
              "      <td>0.9978</td>\n",
              "      <td>3.51</td>\n",
              "      <td>0.56</td>\n",
              "      <td>9.4</td>\n",
              "      <td>5</td>\n",
              "      <td>red</td>\n",
              "    </tr>\n",
              "    <tr>\n",
              "      <th>1</th>\n",
              "      <td>7.8</td>\n",
              "      <td>0.88</td>\n",
              "      <td>0.00</td>\n",
              "      <td>2.6</td>\n",
              "      <td>0.098</td>\n",
              "      <td>25.0</td>\n",
              "      <td>67.0</td>\n",
              "      <td>0.9968</td>\n",
              "      <td>3.20</td>\n",
              "      <td>0.68</td>\n",
              "      <td>9.8</td>\n",
              "      <td>5</td>\n",
              "      <td>red</td>\n",
              "    </tr>\n",
              "    <tr>\n",
              "      <th>2</th>\n",
              "      <td>7.8</td>\n",
              "      <td>0.76</td>\n",
              "      <td>0.04</td>\n",
              "      <td>2.3</td>\n",
              "      <td>0.092</td>\n",
              "      <td>15.0</td>\n",
              "      <td>54.0</td>\n",
              "      <td>0.9970</td>\n",
              "      <td>3.26</td>\n",
              "      <td>0.65</td>\n",
              "      <td>9.8</td>\n",
              "      <td>5</td>\n",
              "      <td>red</td>\n",
              "    </tr>\n",
              "    <tr>\n",
              "      <th>3</th>\n",
              "      <td>11.2</td>\n",
              "      <td>0.28</td>\n",
              "      <td>0.56</td>\n",
              "      <td>1.9</td>\n",
              "      <td>0.075</td>\n",
              "      <td>17.0</td>\n",
              "      <td>60.0</td>\n",
              "      <td>0.9980</td>\n",
              "      <td>3.16</td>\n",
              "      <td>0.58</td>\n",
              "      <td>9.8</td>\n",
              "      <td>6</td>\n",
              "      <td>red</td>\n",
              "    </tr>\n",
              "    <tr>\n",
              "      <th>4</th>\n",
              "      <td>7.4</td>\n",
              "      <td>0.70</td>\n",
              "      <td>0.00</td>\n",
              "      <td>1.9</td>\n",
              "      <td>0.076</td>\n",
              "      <td>11.0</td>\n",
              "      <td>34.0</td>\n",
              "      <td>0.9978</td>\n",
              "      <td>3.51</td>\n",
              "      <td>0.56</td>\n",
              "      <td>9.4</td>\n",
              "      <td>5</td>\n",
              "      <td>red</td>\n",
              "    </tr>\n",
              "  </tbody>\n",
              "</table>\n",
              "</div>"
            ],
            "text/plain": [
              "   fixed_acidity  volatile_acidity  citric_acid  ...  alcohol  quality  style\n",
              "0            7.4              0.70         0.00  ...      9.4        5    red\n",
              "1            7.8              0.88         0.00  ...      9.8        5    red\n",
              "2            7.8              0.76         0.04  ...      9.8        5    red\n",
              "3           11.2              0.28         0.56  ...      9.8        6    red\n",
              "4            7.4              0.70         0.00  ...      9.4        5    red\n",
              "\n",
              "[5 rows x 13 columns]"
            ]
          },
          "metadata": {
            "tags": []
          },
          "execution_count": 5
        }
      ]
    },
    {
      "cell_type": "code",
      "metadata": {
        "colab": {
          "base_uri": "https://localhost:8080/",
          "height": 317
        },
        "id": "-wvALb_ysIce",
        "outputId": "1240571e-a54d-49db-d290-ef3b31b34b14"
      },
      "source": [
        "filtered_columns = ['fixed_acidity', 'volatile_acidity', 'citric_acid', 'residual_sugar', 'chlorides', 'free_sulfur_dioxide', 'total_sulfur_dioxide', 'density', 'pH', 'sulphates', 'alcohol', 'quality']\n",
        "data = dataset[filtered_columns]\n",
        "# Нужно ли масштабирование\n",
        "data.describe()"
      ],
      "execution_count": 6,
      "outputs": [
        {
          "output_type": "execute_result",
          "data": {
            "text/html": [
              "<div>\n",
              "<style scoped>\n",
              "    .dataframe tbody tr th:only-of-type {\n",
              "        vertical-align: middle;\n",
              "    }\n",
              "\n",
              "    .dataframe tbody tr th {\n",
              "        vertical-align: top;\n",
              "    }\n",
              "\n",
              "    .dataframe thead th {\n",
              "        text-align: right;\n",
              "    }\n",
              "</style>\n",
              "<table border=\"1\" class=\"dataframe\">\n",
              "  <thead>\n",
              "    <tr style=\"text-align: right;\">\n",
              "      <th></th>\n",
              "      <th>fixed_acidity</th>\n",
              "      <th>volatile_acidity</th>\n",
              "      <th>citric_acid</th>\n",
              "      <th>residual_sugar</th>\n",
              "      <th>chlorides</th>\n",
              "      <th>free_sulfur_dioxide</th>\n",
              "      <th>total_sulfur_dioxide</th>\n",
              "      <th>density</th>\n",
              "      <th>pH</th>\n",
              "      <th>sulphates</th>\n",
              "      <th>alcohol</th>\n",
              "      <th>quality</th>\n",
              "    </tr>\n",
              "  </thead>\n",
              "  <tbody>\n",
              "    <tr>\n",
              "      <th>count</th>\n",
              "      <td>6497.000000</td>\n",
              "      <td>6497.000000</td>\n",
              "      <td>6497.000000</td>\n",
              "      <td>6497.000000</td>\n",
              "      <td>6497.000000</td>\n",
              "      <td>6497.000000</td>\n",
              "      <td>6497.000000</td>\n",
              "      <td>6497.000000</td>\n",
              "      <td>6497.000000</td>\n",
              "      <td>6497.000000</td>\n",
              "      <td>6497.000000</td>\n",
              "      <td>6497.000000</td>\n",
              "    </tr>\n",
              "    <tr>\n",
              "      <th>mean</th>\n",
              "      <td>7.215307</td>\n",
              "      <td>0.339666</td>\n",
              "      <td>0.318633</td>\n",
              "      <td>5.443235</td>\n",
              "      <td>0.056034</td>\n",
              "      <td>30.525319</td>\n",
              "      <td>115.744574</td>\n",
              "      <td>0.994697</td>\n",
              "      <td>3.218501</td>\n",
              "      <td>0.531268</td>\n",
              "      <td>10.491801</td>\n",
              "      <td>5.818378</td>\n",
              "    </tr>\n",
              "    <tr>\n",
              "      <th>std</th>\n",
              "      <td>1.296434</td>\n",
              "      <td>0.164636</td>\n",
              "      <td>0.145318</td>\n",
              "      <td>4.757804</td>\n",
              "      <td>0.035034</td>\n",
              "      <td>17.749400</td>\n",
              "      <td>56.521855</td>\n",
              "      <td>0.002999</td>\n",
              "      <td>0.160787</td>\n",
              "      <td>0.148806</td>\n",
              "      <td>1.192712</td>\n",
              "      <td>0.873255</td>\n",
              "    </tr>\n",
              "    <tr>\n",
              "      <th>min</th>\n",
              "      <td>3.800000</td>\n",
              "      <td>0.080000</td>\n",
              "      <td>0.000000</td>\n",
              "      <td>0.600000</td>\n",
              "      <td>0.009000</td>\n",
              "      <td>1.000000</td>\n",
              "      <td>6.000000</td>\n",
              "      <td>0.987110</td>\n",
              "      <td>2.720000</td>\n",
              "      <td>0.220000</td>\n",
              "      <td>8.000000</td>\n",
              "      <td>3.000000</td>\n",
              "    </tr>\n",
              "    <tr>\n",
              "      <th>25%</th>\n",
              "      <td>6.400000</td>\n",
              "      <td>0.230000</td>\n",
              "      <td>0.250000</td>\n",
              "      <td>1.800000</td>\n",
              "      <td>0.038000</td>\n",
              "      <td>17.000000</td>\n",
              "      <td>77.000000</td>\n",
              "      <td>0.992340</td>\n",
              "      <td>3.110000</td>\n",
              "      <td>0.430000</td>\n",
              "      <td>9.500000</td>\n",
              "      <td>5.000000</td>\n",
              "    </tr>\n",
              "    <tr>\n",
              "      <th>50%</th>\n",
              "      <td>7.000000</td>\n",
              "      <td>0.290000</td>\n",
              "      <td>0.310000</td>\n",
              "      <td>3.000000</td>\n",
              "      <td>0.047000</td>\n",
              "      <td>29.000000</td>\n",
              "      <td>118.000000</td>\n",
              "      <td>0.994890</td>\n",
              "      <td>3.210000</td>\n",
              "      <td>0.510000</td>\n",
              "      <td>10.300000</td>\n",
              "      <td>6.000000</td>\n",
              "    </tr>\n",
              "    <tr>\n",
              "      <th>75%</th>\n",
              "      <td>7.700000</td>\n",
              "      <td>0.400000</td>\n",
              "      <td>0.390000</td>\n",
              "      <td>8.100000</td>\n",
              "      <td>0.065000</td>\n",
              "      <td>41.000000</td>\n",
              "      <td>156.000000</td>\n",
              "      <td>0.996990</td>\n",
              "      <td>3.320000</td>\n",
              "      <td>0.600000</td>\n",
              "      <td>11.300000</td>\n",
              "      <td>6.000000</td>\n",
              "    </tr>\n",
              "    <tr>\n",
              "      <th>max</th>\n",
              "      <td>15.900000</td>\n",
              "      <td>1.580000</td>\n",
              "      <td>1.660000</td>\n",
              "      <td>65.800000</td>\n",
              "      <td>0.611000</td>\n",
              "      <td>289.000000</td>\n",
              "      <td>440.000000</td>\n",
              "      <td>1.038980</td>\n",
              "      <td>4.010000</td>\n",
              "      <td>2.000000</td>\n",
              "      <td>14.900000</td>\n",
              "      <td>9.000000</td>\n",
              "    </tr>\n",
              "  </tbody>\n",
              "</table>\n",
              "</div>"
            ],
            "text/plain": [
              "       fixed_acidity  volatile_acidity  ...      alcohol      quality\n",
              "count    6497.000000       6497.000000  ...  6497.000000  6497.000000\n",
              "mean        7.215307          0.339666  ...    10.491801     5.818378\n",
              "std         1.296434          0.164636  ...     1.192712     0.873255\n",
              "min         3.800000          0.080000  ...     8.000000     3.000000\n",
              "25%         6.400000          0.230000  ...     9.500000     5.000000\n",
              "50%         7.000000          0.290000  ...    10.300000     6.000000\n",
              "75%         7.700000          0.400000  ...    11.300000     6.000000\n",
              "max        15.900000          1.580000  ...    14.900000     9.000000\n",
              "\n",
              "[8 rows x 12 columns]"
            ]
          },
          "metadata": {
            "tags": []
          },
          "execution_count": 6
        }
      ]
    },
    {
      "cell_type": "code",
      "metadata": {
        "colab": {
          "base_uri": "https://localhost:8080/"
        },
        "id": "SYKzE0Fuw3u0",
        "outputId": "24be97e8-77da-4b57-e709-41318d8bc57c"
      },
      "source": [
        "data.columns"
      ],
      "execution_count": 7,
      "outputs": [
        {
          "output_type": "execute_result",
          "data": {
            "text/plain": [
              "Index(['fixed_acidity', 'volatile_acidity', 'citric_acid', 'residual_sugar',\n",
              "       'chlorides', 'free_sulfur_dioxide', 'total_sulfur_dioxide', 'density',\n",
              "       'pH', 'sulphates', 'alcohol', 'quality'],\n",
              "      dtype='object')"
            ]
          },
          "metadata": {
            "tags": []
          },
          "execution_count": 7
        }
      ]
    },
    {
      "cell_type": "markdown",
      "metadata": {
        "id": "FW7PAHds5ADX"
      },
      "source": [
        "### Масштабирование:"
      ]
    },
    {
      "cell_type": "code",
      "metadata": {
        "id": "yXk1400ek2vA"
      },
      "source": [
        "# Функция для восстановления датафрейма\n",
        "# на основе масштабированных данных\n",
        "def arr_to_df(arr_scaled):\n",
        "    res = pd.DataFrame(arr_scaled, columns=X_ALL.columns)\n",
        "    return res"
      ],
      "execution_count": 8,
      "outputs": []
    },
    {
      "cell_type": "code",
      "metadata": {
        "id": "6xganvTeson-"
      },
      "source": [
        "X_ALL = data.drop('quality', axis=1)"
      ],
      "execution_count": 9,
      "outputs": []
    },
    {
      "cell_type": "code",
      "metadata": {
        "colab": {
          "base_uri": "https://localhost:8080/"
        },
        "id": "qFyx_cgntWcF",
        "outputId": "0db151a4-1bf1-44a0-ddff-f13c6aacb0c2"
      },
      "source": [
        "# Разделим выборку на обучающую и тестовую\n",
        "X_train, X_test, y_train, y_test = train_test_split(X_ALL, data['quality'],\n",
        "                                                    test_size=0.2,\n",
        "                                                    random_state=1)\n",
        "# Преобразуем массивы в DataFrame\n",
        "X_train_df = arr_to_df(X_train)\n",
        "X_test_df = arr_to_df(X_test)\n",
        "\n",
        "X_train_df.shape, X_test_df.shape"
      ],
      "execution_count": 10,
      "outputs": [
        {
          "output_type": "execute_result",
          "data": {
            "text/plain": [
              "((5197, 11), (1300, 11))"
            ]
          },
          "metadata": {
            "tags": []
          },
          "execution_count": 10
        }
      ]
    },
    {
      "cell_type": "markdown",
      "metadata": {
        "id": "0KOnwdwGq_je"
      },
      "source": [
        "### Масштабирование данных на основе Z-оценки"
      ]
    },
    {
      "cell_type": "code",
      "metadata": {
        "colab": {
          "base_uri": "https://localhost:8080/",
          "height": 439
        },
        "id": "EPzzOLHxtel7",
        "outputId": "d52cfe2f-8b20-4331-f51d-986b929591c1"
      },
      "source": [
        "# Обучаем StandardScaler на всей выборке и масштабируем\n",
        "cs11 = StandardScaler()\n",
        "data_cs11_scaled_temp = cs11.fit_transform(X_ALL)\n",
        "# формируем DataFrame на основе массива\n",
        "data_cs11_scaled =  arr_to_df(data_cs11_scaled_temp)\n",
        "data_cs11_scaled"
      ],
      "execution_count": 11,
      "outputs": [
        {
          "output_type": "execute_result",
          "data": {
            "text/html": [
              "<div>\n",
              "<style scoped>\n",
              "    .dataframe tbody tr th:only-of-type {\n",
              "        vertical-align: middle;\n",
              "    }\n",
              "\n",
              "    .dataframe tbody tr th {\n",
              "        vertical-align: top;\n",
              "    }\n",
              "\n",
              "    .dataframe thead th {\n",
              "        text-align: right;\n",
              "    }\n",
              "</style>\n",
              "<table border=\"1\" class=\"dataframe\">\n",
              "  <thead>\n",
              "    <tr style=\"text-align: right;\">\n",
              "      <th></th>\n",
              "      <th>fixed_acidity</th>\n",
              "      <th>volatile_acidity</th>\n",
              "      <th>citric_acid</th>\n",
              "      <th>residual_sugar</th>\n",
              "      <th>chlorides</th>\n",
              "      <th>free_sulfur_dioxide</th>\n",
              "      <th>total_sulfur_dioxide</th>\n",
              "      <th>density</th>\n",
              "      <th>pH</th>\n",
              "      <th>sulphates</th>\n",
              "      <th>alcohol</th>\n",
              "    </tr>\n",
              "  </thead>\n",
              "  <tbody>\n",
              "    <tr>\n",
              "      <th>0</th>\n",
              "      <td>0.142473</td>\n",
              "      <td>2.188833</td>\n",
              "      <td>-2.192833</td>\n",
              "      <td>-0.744778</td>\n",
              "      <td>0.569958</td>\n",
              "      <td>-1.100140</td>\n",
              "      <td>-1.446359</td>\n",
              "      <td>1.034993</td>\n",
              "      <td>1.813090</td>\n",
              "      <td>0.193097</td>\n",
              "      <td>-0.915464</td>\n",
              "    </tr>\n",
              "    <tr>\n",
              "      <th>1</th>\n",
              "      <td>0.451036</td>\n",
              "      <td>3.282235</td>\n",
              "      <td>-2.192833</td>\n",
              "      <td>-0.597640</td>\n",
              "      <td>1.197975</td>\n",
              "      <td>-0.311320</td>\n",
              "      <td>-0.862469</td>\n",
              "      <td>0.701486</td>\n",
              "      <td>-0.115073</td>\n",
              "      <td>0.999579</td>\n",
              "      <td>-0.580068</td>\n",
              "    </tr>\n",
              "    <tr>\n",
              "      <th>2</th>\n",
              "      <td>0.451036</td>\n",
              "      <td>2.553300</td>\n",
              "      <td>-1.917553</td>\n",
              "      <td>-0.660699</td>\n",
              "      <td>1.026697</td>\n",
              "      <td>-0.874763</td>\n",
              "      <td>-1.092486</td>\n",
              "      <td>0.768188</td>\n",
              "      <td>0.258120</td>\n",
              "      <td>0.797958</td>\n",
              "      <td>-0.580068</td>\n",
              "    </tr>\n",
              "    <tr>\n",
              "      <th>3</th>\n",
              "      <td>3.073817</td>\n",
              "      <td>-0.362438</td>\n",
              "      <td>1.661085</td>\n",
              "      <td>-0.744778</td>\n",
              "      <td>0.541412</td>\n",
              "      <td>-0.762074</td>\n",
              "      <td>-0.986324</td>\n",
              "      <td>1.101694</td>\n",
              "      <td>-0.363868</td>\n",
              "      <td>0.327510</td>\n",
              "      <td>-0.580068</td>\n",
              "    </tr>\n",
              "    <tr>\n",
              "      <th>4</th>\n",
              "      <td>0.142473</td>\n",
              "      <td>2.188833</td>\n",
              "      <td>-2.192833</td>\n",
              "      <td>-0.744778</td>\n",
              "      <td>0.569958</td>\n",
              "      <td>-1.100140</td>\n",
              "      <td>-1.446359</td>\n",
              "      <td>1.034993</td>\n",
              "      <td>1.813090</td>\n",
              "      <td>0.193097</td>\n",
              "      <td>-0.915464</td>\n",
              "    </tr>\n",
              "    <tr>\n",
              "      <th>...</th>\n",
              "      <td>...</td>\n",
              "      <td>...</td>\n",
              "      <td>...</td>\n",
              "      <td>...</td>\n",
              "      <td>...</td>\n",
              "      <td>...</td>\n",
              "      <td>...</td>\n",
              "      <td>...</td>\n",
              "      <td>...</td>\n",
              "      <td>...</td>\n",
              "      <td>...</td>\n",
              "    </tr>\n",
              "    <tr>\n",
              "      <th>6492</th>\n",
              "      <td>-0.783214</td>\n",
              "      <td>-0.787650</td>\n",
              "      <td>-0.197054</td>\n",
              "      <td>-0.807837</td>\n",
              "      <td>-0.486252</td>\n",
              "      <td>-0.367664</td>\n",
              "      <td>-0.420128</td>\n",
              "      <td>-1.186161</td>\n",
              "      <td>0.320319</td>\n",
              "      <td>-0.210144</td>\n",
              "      <td>0.593818</td>\n",
              "    </tr>\n",
              "    <tr>\n",
              "      <th>6493</th>\n",
              "      <td>-0.474652</td>\n",
              "      <td>-0.119460</td>\n",
              "      <td>0.284686</td>\n",
              "      <td>0.537425</td>\n",
              "      <td>-0.257883</td>\n",
              "      <td>1.491697</td>\n",
              "      <td>0.924588</td>\n",
              "      <td>0.067824</td>\n",
              "      <td>-0.426067</td>\n",
              "      <td>-0.478971</td>\n",
              "      <td>-0.747766</td>\n",
              "    </tr>\n",
              "    <tr>\n",
              "      <th>6494</th>\n",
              "      <td>-0.551792</td>\n",
              "      <td>-0.605417</td>\n",
              "      <td>-0.885253</td>\n",
              "      <td>-0.891916</td>\n",
              "      <td>-0.429160</td>\n",
              "      <td>-0.029599</td>\n",
              "      <td>-0.083949</td>\n",
              "      <td>-0.719251</td>\n",
              "      <td>-1.421248</td>\n",
              "      <td>-0.478971</td>\n",
              "      <td>-0.915464</td>\n",
              "    </tr>\n",
              "    <tr>\n",
              "      <th>6495</th>\n",
              "      <td>-1.323198</td>\n",
              "      <td>-0.301694</td>\n",
              "      <td>-0.128234</td>\n",
              "      <td>-0.912936</td>\n",
              "      <td>-0.971538</td>\n",
              "      <td>-0.593041</td>\n",
              "      <td>-0.101642</td>\n",
              "      <td>-2.003251</td>\n",
              "      <td>0.755710</td>\n",
              "      <td>-1.016626</td>\n",
              "      <td>1.935402</td>\n",
              "    </tr>\n",
              "    <tr>\n",
              "      <th>6496</th>\n",
              "      <td>-0.937495</td>\n",
              "      <td>-0.787650</td>\n",
              "      <td>0.422326</td>\n",
              "      <td>-0.975995</td>\n",
              "      <td>-1.028631</td>\n",
              "      <td>-0.480353</td>\n",
              "      <td>-0.313966</td>\n",
              "      <td>-1.763127</td>\n",
              "      <td>0.258120</td>\n",
              "      <td>-1.419867</td>\n",
              "      <td>1.096912</td>\n",
              "    </tr>\n",
              "  </tbody>\n",
              "</table>\n",
              "<p>6497 rows × 11 columns</p>\n",
              "</div>"
            ],
            "text/plain": [
              "      fixed_acidity  volatile_acidity  ...  sulphates   alcohol\n",
              "0          0.142473          2.188833  ...   0.193097 -0.915464\n",
              "1          0.451036          3.282235  ...   0.999579 -0.580068\n",
              "2          0.451036          2.553300  ...   0.797958 -0.580068\n",
              "3          3.073817         -0.362438  ...   0.327510 -0.580068\n",
              "4          0.142473          2.188833  ...   0.193097 -0.915464\n",
              "...             ...               ...  ...        ...       ...\n",
              "6492      -0.783214         -0.787650  ...  -0.210144  0.593818\n",
              "6493      -0.474652         -0.119460  ...  -0.478971 -0.747766\n",
              "6494      -0.551792         -0.605417  ...  -0.478971 -0.915464\n",
              "6495      -1.323198         -0.301694  ...  -1.016626  1.935402\n",
              "6496      -0.937495         -0.787650  ...  -1.419867  1.096912\n",
              "\n",
              "[6497 rows x 11 columns]"
            ]
          },
          "metadata": {
            "tags": []
          },
          "execution_count": 11
        }
      ]
    },
    {
      "cell_type": "code",
      "metadata": {
        "colab": {
          "base_uri": "https://localhost:8080/",
          "height": 317
        },
        "id": "SYZB7XXCtvvB",
        "outputId": "a6e1d9ab-3bf4-4c17-83bf-1144797b84b2"
      },
      "source": [
        "data_cs11_scaled.describe()"
      ],
      "execution_count": 12,
      "outputs": [
        {
          "output_type": "execute_result",
          "data": {
            "text/html": [
              "<div>\n",
              "<style scoped>\n",
              "    .dataframe tbody tr th:only-of-type {\n",
              "        vertical-align: middle;\n",
              "    }\n",
              "\n",
              "    .dataframe tbody tr th {\n",
              "        vertical-align: top;\n",
              "    }\n",
              "\n",
              "    .dataframe thead th {\n",
              "        text-align: right;\n",
              "    }\n",
              "</style>\n",
              "<table border=\"1\" class=\"dataframe\">\n",
              "  <thead>\n",
              "    <tr style=\"text-align: right;\">\n",
              "      <th></th>\n",
              "      <th>fixed_acidity</th>\n",
              "      <th>volatile_acidity</th>\n",
              "      <th>citric_acid</th>\n",
              "      <th>residual_sugar</th>\n",
              "      <th>chlorides</th>\n",
              "      <th>free_sulfur_dioxide</th>\n",
              "      <th>total_sulfur_dioxide</th>\n",
              "      <th>density</th>\n",
              "      <th>pH</th>\n",
              "      <th>sulphates</th>\n",
              "      <th>alcohol</th>\n",
              "    </tr>\n",
              "  </thead>\n",
              "  <tbody>\n",
              "    <tr>\n",
              "      <th>count</th>\n",
              "      <td>6.497000e+03</td>\n",
              "      <td>6.497000e+03</td>\n",
              "      <td>6.497000e+03</td>\n",
              "      <td>6.497000e+03</td>\n",
              "      <td>6.497000e+03</td>\n",
              "      <td>6.497000e+03</td>\n",
              "      <td>6.497000e+03</td>\n",
              "      <td>6.497000e+03</td>\n",
              "      <td>6.497000e+03</td>\n",
              "      <td>6.497000e+03</td>\n",
              "      <td>6.497000e+03</td>\n",
              "    </tr>\n",
              "    <tr>\n",
              "      <th>mean</th>\n",
              "      <td>1.007471e-15</td>\n",
              "      <td>1.002225e-15</td>\n",
              "      <td>-1.753083e-16</td>\n",
              "      <td>-1.693547e-15</td>\n",
              "      <td>3.303499e-16</td>\n",
              "      <td>1.009232e-15</td>\n",
              "      <td>-9.658103e-16</td>\n",
              "      <td>-4.708938e-15</td>\n",
              "      <td>3.086803e-15</td>\n",
              "      <td>3.102883e-16</td>\n",
              "      <td>-1.131481e-15</td>\n",
              "    </tr>\n",
              "    <tr>\n",
              "      <th>std</th>\n",
              "      <td>1.000077e+00</td>\n",
              "      <td>1.000077e+00</td>\n",
              "      <td>1.000077e+00</td>\n",
              "      <td>1.000077e+00</td>\n",
              "      <td>1.000077e+00</td>\n",
              "      <td>1.000077e+00</td>\n",
              "      <td>1.000077e+00</td>\n",
              "      <td>1.000077e+00</td>\n",
              "      <td>1.000077e+00</td>\n",
              "      <td>1.000077e+00</td>\n",
              "      <td>1.000077e+00</td>\n",
              "    </tr>\n",
              "    <tr>\n",
              "      <th>min</th>\n",
              "      <td>-2.634589e+00</td>\n",
              "      <td>-1.577330e+00</td>\n",
              "      <td>-2.192833e+00</td>\n",
              "      <td>-1.018034e+00</td>\n",
              "      <td>-1.342639e+00</td>\n",
              "      <td>-1.663583e+00</td>\n",
              "      <td>-1.941780e+00</td>\n",
              "      <td>-2.530192e+00</td>\n",
              "      <td>-3.100615e+00</td>\n",
              "      <td>-2.091935e+00</td>\n",
              "      <td>-2.089350e+00</td>\n",
              "    </tr>\n",
              "    <tr>\n",
              "      <th>25%</th>\n",
              "      <td>-6.289329e-01</td>\n",
              "      <td>-6.661613e-01</td>\n",
              "      <td>-4.723335e-01</td>\n",
              "      <td>-7.657978e-01</td>\n",
              "      <td>-5.147986e-01</td>\n",
              "      <td>-7.620742e-01</td>\n",
              "      <td>-6.855323e-01</td>\n",
              "      <td>-7.859527e-01</td>\n",
              "      <td>-6.748622e-01</td>\n",
              "      <td>-6.805919e-01</td>\n",
              "      <td>-8.316152e-01</td>\n",
              "    </tr>\n",
              "    <tr>\n",
              "      <th>50%</th>\n",
              "      <td>-1.660892e-01</td>\n",
              "      <td>-3.016939e-01</td>\n",
              "      <td>-5.941375e-02</td>\n",
              "      <td>-5.135612e-01</td>\n",
              "      <td>-2.578826e-01</td>\n",
              "      <td>-8.594301e-02</td>\n",
              "      <td>3.990667e-02</td>\n",
              "      <td>6.448888e-02</td>\n",
              "      <td>-5.287424e-02</td>\n",
              "      <td>-1.429373e-01</td>\n",
              "      <td>-1.608231e-01</td>\n",
              "    </tr>\n",
              "    <tr>\n",
              "      <th>75%</th>\n",
              "      <td>3.738951e-01</td>\n",
              "      <td>3.664962e-01</td>\n",
              "      <td>4.911459e-01</td>\n",
              "      <td>5.584445e-01</td>\n",
              "      <td>2.559494e-01</td>\n",
              "      <td>5.901882e-01</td>\n",
              "      <td>7.122647e-01</td>\n",
              "      <td>7.648525e-01</td>\n",
              "      <td>6.313125e-01</td>\n",
              "      <td>4.619241e-01</td>\n",
              "      <td>6.776670e-01</td>\n",
              "    </tr>\n",
              "    <tr>\n",
              "      <th>max</th>\n",
              "      <td>6.699425e+00</td>\n",
              "      <td>7.534354e+00</td>\n",
              "      <td>9.231281e+00</td>\n",
              "      <td>1.268682e+01</td>\n",
              "      <td>1.584219e+01</td>\n",
              "      <td>1.456357e+01</td>\n",
              "      <td>5.737257e+00</td>\n",
              "      <td>1.476879e+01</td>\n",
              "      <td>4.923029e+00</td>\n",
              "      <td>9.870879e+00</td>\n",
              "      <td>3.696231e+00</td>\n",
              "    </tr>\n",
              "  </tbody>\n",
              "</table>\n",
              "</div>"
            ],
            "text/plain": [
              "       fixed_acidity  volatile_acidity  ...     sulphates       alcohol\n",
              "count   6.497000e+03      6.497000e+03  ...  6.497000e+03  6.497000e+03\n",
              "mean    1.007471e-15      1.002225e-15  ...  3.102883e-16 -1.131481e-15\n",
              "std     1.000077e+00      1.000077e+00  ...  1.000077e+00  1.000077e+00\n",
              "min    -2.634589e+00     -1.577330e+00  ... -2.091935e+00 -2.089350e+00\n",
              "25%    -6.289329e-01     -6.661613e-01  ... -6.805919e-01 -8.316152e-01\n",
              "50%    -1.660892e-01     -3.016939e-01  ... -1.429373e-01 -1.608231e-01\n",
              "75%     3.738951e-01      3.664962e-01  ...  4.619241e-01  6.776670e-01\n",
              "max     6.699425e+00      7.534354e+00  ...  9.870879e+00  3.696231e+00\n",
              "\n",
              "[8 rows x 11 columns]"
            ]
          },
          "metadata": {
            "tags": []
          },
          "execution_count": 12
        }
      ]
    },
    {
      "cell_type": "code",
      "metadata": {
        "id": "mZLiKIDIwUBp"
      },
      "source": [
        "# Построение плотности распределения\n",
        "def draw_kde(col_list, df1, df2, label1, label2):\n",
        "    fig, (ax1, ax2) = plt.subplots(\n",
        "        ncols=2, figsize=(12, 5))\n",
        "    # первый график\n",
        "    ax1.set_title(label1)\n",
        "    sns.kdeplot(data=df1[col_list], ax=ax1)\n",
        "    # второй график\n",
        "    ax2.set_title(label2)\n",
        "    sns.kdeplot(data=df2[col_list], ax=ax2)\n",
        "    plt.show()"
      ],
      "execution_count": 13,
      "outputs": []
    },
    {
      "cell_type": "code",
      "metadata": {
        "colab": {
          "base_uri": "https://localhost:8080/",
          "height": 336
        },
        "id": "kHmMESErwat0",
        "outputId": "5f1b0dfa-60ba-498a-957e-ec875148631b"
      },
      "source": [
        "draw_kde(['fixed_acidity', 'volatile_acidity', 'citric_acid'], data, data_cs11_scaled, 'до масштабирования', 'после масштабирования')"
      ],
      "execution_count": 14,
      "outputs": [
        {
          "output_type": "display_data",
          "data": {
            "image/png": "[encoded data removed]",
            "text/plain": [
              "<Figure size 864x360 with 2 Axes>"
            ]
          },
          "metadata": {
            "tags": [],
            "needs_background": "light"
          }
        }
      ]
    },
    {
      "cell_type": "code",
      "metadata": {
        "id": "lcSqMZLbwkFV"
      },
      "source": [
        "# Обучаем StandardScaler на обучающей выборке \n",
        "# и масштабируем обучающую и тестовую выборки\n",
        "cs12 = StandardScaler()\n",
        "cs12.fit(X_train)\n",
        "data_cs12_scaled_train_temp = cs12.transform(X_train)\n",
        "data_cs12_scaled_test_temp = cs12.transform(X_test)\n",
        "# формируем DataFrame на основе массива\n",
        "data_cs12_scaled_train = arr_to_df(data_cs12_scaled_train_temp)\n",
        "data_cs12_scaled_test = arr_to_df(data_cs12_scaled_test_temp)"
      ],
      "execution_count": 15,
      "outputs": []
    },
    {
      "cell_type": "code",
      "metadata": {
        "colab": {
          "base_uri": "https://localhost:8080/",
          "height": 317
        },
        "id": "WZbin7a0yNHp",
        "outputId": "5bd89eaa-ac04-4150-aca3-35ef563afd74"
      },
      "source": [
        "data_cs12_scaled_train.describe()"
      ],
      "execution_count": 16,
      "outputs": [
        {
          "output_type": "execute_result",
          "data": {
            "text/html": [
              "<div>\n",
              "<style scoped>\n",
              "    .dataframe tbody tr th:only-of-type {\n",
              "        vertical-align: middle;\n",
              "    }\n",
              "\n",
              "    .dataframe tbody tr th {\n",
              "        vertical-align: top;\n",
              "    }\n",
              "\n",
              "    .dataframe thead th {\n",
              "        text-align: right;\n",
              "    }\n",
              "</style>\n",
              "<table border=\"1\" class=\"dataframe\">\n",
              "  <thead>\n",
              "    <tr style=\"text-align: right;\">\n",
              "      <th></th>\n",
              "      <th>fixed_acidity</th>\n",
              "      <th>volatile_acidity</th>\n",
              "      <th>citric_acid</th>\n",
              "      <th>residual_sugar</th>\n",
              "      <th>chlorides</th>\n",
              "      <th>free_sulfur_dioxide</th>\n",
              "      <th>total_sulfur_dioxide</th>\n",
              "      <th>density</th>\n",
              "      <th>pH</th>\n",
              "      <th>sulphates</th>\n",
              "      <th>alcohol</th>\n",
              "    </tr>\n",
              "  </thead>\n",
              "  <tbody>\n",
              "    <tr>\n",
              "      <th>count</th>\n",
              "      <td>5.197000e+03</td>\n",
              "      <td>5.197000e+03</td>\n",
              "      <td>5.197000e+03</td>\n",
              "      <td>5.197000e+03</td>\n",
              "      <td>5.197000e+03</td>\n",
              "      <td>5.197000e+03</td>\n",
              "      <td>5.197000e+03</td>\n",
              "      <td>5.197000e+03</td>\n",
              "      <td>5.197000e+03</td>\n",
              "      <td>5.197000e+03</td>\n",
              "      <td>5.197000e+03</td>\n",
              "    </tr>\n",
              "    <tr>\n",
              "      <th>mean</th>\n",
              "      <td>-6.672020e-16</td>\n",
              "      <td>-2.136277e-20</td>\n",
              "      <td>2.439842e-16</td>\n",
              "      <td>4.272553e-19</td>\n",
              "      <td>1.350554e-16</td>\n",
              "      <td>1.113641e-16</td>\n",
              "      <td>-5.937781e-17</td>\n",
              "      <td>3.950928e-14</td>\n",
              "      <td>1.533686e-16</td>\n",
              "      <td>-4.777997e-16</td>\n",
              "      <td>7.453042e-16</td>\n",
              "    </tr>\n",
              "    <tr>\n",
              "      <th>std</th>\n",
              "      <td>1.000096e+00</td>\n",
              "      <td>1.000096e+00</td>\n",
              "      <td>1.000096e+00</td>\n",
              "      <td>1.000096e+00</td>\n",
              "      <td>1.000096e+00</td>\n",
              "      <td>1.000096e+00</td>\n",
              "      <td>1.000096e+00</td>\n",
              "      <td>1.000096e+00</td>\n",
              "      <td>1.000096e+00</td>\n",
              "      <td>1.000096e+00</td>\n",
              "      <td>1.000096e+00</td>\n",
              "    </tr>\n",
              "    <tr>\n",
              "      <th>min</th>\n",
              "      <td>-2.638766e+00</td>\n",
              "      <td>-1.581723e+00</td>\n",
              "      <td>-2.190155e+00</td>\n",
              "      <td>-1.018671e+00</td>\n",
              "      <td>-1.251259e+00</td>\n",
              "      <td>-1.652709e+00</td>\n",
              "      <td>-1.932370e+00</td>\n",
              "      <td>-2.536615e+00</td>\n",
              "      <td>-2.985816e+00</td>\n",
              "      <td>-2.080734e+00</td>\n",
              "      <td>-2.098828e+00</td>\n",
              "    </tr>\n",
              "    <tr>\n",
              "      <th>25%</th>\n",
              "      <td>-6.320046e-01</td>\n",
              "      <td>-6.713432e-01</td>\n",
              "      <td>-4.679850e-01</td>\n",
              "      <td>-7.643813e-01</td>\n",
              "      <td>-5.184132e-01</td>\n",
              "      <td>-7.576001e-01</td>\n",
              "      <td>-6.779388e-01</td>\n",
              "      <td>-7.842257e-01</td>\n",
              "      <td>-6.784129e-01</td>\n",
              "      <td>-6.824787e-01</td>\n",
              "      <td>-8.379884e-01</td>\n",
              "    </tr>\n",
              "    <tr>\n",
              "      <th>50%</th>\n",
              "      <td>-1.689058e-01</td>\n",
              "      <td>-3.071912e-01</td>\n",
              "      <td>-5.466408e-02</td>\n",
              "      <td>-5.100911e-01</td>\n",
              "      <td>-2.647360e-01</td>\n",
              "      <td>-8.626853e-02</td>\n",
              "      <td>4.645130e-02</td>\n",
              "      <td>6.855915e-02</td>\n",
              "      <td>-5.479045e-02</td>\n",
              "      <td>-1.498099e-01</td>\n",
              "      <td>-1.655408e-01</td>\n",
              "    </tr>\n",
              "    <tr>\n",
              "      <th>75%</th>\n",
              "      <td>3.713760e-01</td>\n",
              "      <td>4.211128e-01</td>\n",
              "      <td>4.964304e-01</td>\n",
              "      <td>5.706422e-01</td>\n",
              "      <td>2.708049e-01</td>\n",
              "      <td>5.850630e-01</td>\n",
              "      <td>7.178372e-01</td>\n",
              "      <td>7.440985e-01</td>\n",
              "      <td>6.311942e-01</td>\n",
              "      <td>4.494425e-01</td>\n",
              "      <td>6.750187e-01</td>\n",
              "    </tr>\n",
              "    <tr>\n",
              "      <th>max</th>\n",
              "      <td>6.700392e+00</td>\n",
              "      <td>6.004777e+00</td>\n",
              "      <td>6.282923e+00</td>\n",
              "      <td>1.279776e+01</td>\n",
              "      <td>1.563237e+01</td>\n",
              "      <td>1.445925e+01</td>\n",
              "      <td>5.735564e+00</td>\n",
              "      <td>1.481003e+01</td>\n",
              "      <td>4.934189e+00</td>\n",
              "      <td>9.771147e+00</td>\n",
              "      <td>3.701033e+00</td>\n",
              "    </tr>\n",
              "  </tbody>\n",
              "</table>\n",
              "</div>"
            ],
            "text/plain": [
              "       fixed_acidity  volatile_acidity  ...     sulphates       alcohol\n",
              "count   5.197000e+03      5.197000e+03  ...  5.197000e+03  5.197000e+03\n",
              "mean   -6.672020e-16     -2.136277e-20  ... -4.777997e-16  7.453042e-16\n",
              "std     1.000096e+00      1.000096e+00  ...  1.000096e+00  1.000096e+00\n",
              "min    -2.638766e+00     -1.581723e+00  ... -2.080734e+00 -2.098828e+00\n",
              "25%    -6.320046e-01     -6.713432e-01  ... -6.824787e-01 -8.379884e-01\n",
              "50%    -1.689058e-01     -3.071912e-01  ... -1.498099e-01 -1.655408e-01\n",
              "75%     3.713760e-01      4.211128e-01  ...  4.494425e-01  6.750187e-01\n",
              "max     6.700392e+00      6.004777e+00  ...  9.771147e+00  3.701033e+00\n",
              "\n",
              "[8 rows x 11 columns]"
            ]
          },
          "metadata": {
            "tags": []
          },
          "execution_count": 16
        }
      ]
    },
    {
      "cell_type": "code",
      "metadata": {
        "colab": {
          "base_uri": "https://localhost:8080/",
          "height": 317
        },
        "id": "3eONbdRuyPXh",
        "outputId": "77d2c461-ca98-4248-ab50-a5a128202f0f"
      },
      "source": [
        "data_cs12_scaled_test.describe()"
      ],
      "execution_count": 17,
      "outputs": [
        {
          "output_type": "execute_result",
          "data": {
            "text/html": [
              "<div>\n",
              "<style scoped>\n",
              "    .dataframe tbody tr th:only-of-type {\n",
              "        vertical-align: middle;\n",
              "    }\n",
              "\n",
              "    .dataframe tbody tr th {\n",
              "        vertical-align: top;\n",
              "    }\n",
              "\n",
              "    .dataframe thead th {\n",
              "        text-align: right;\n",
              "    }\n",
              "</style>\n",
              "<table border=\"1\" class=\"dataframe\">\n",
              "  <thead>\n",
              "    <tr style=\"text-align: right;\">\n",
              "      <th></th>\n",
              "      <th>fixed_acidity</th>\n",
              "      <th>volatile_acidity</th>\n",
              "      <th>citric_acid</th>\n",
              "      <th>residual_sugar</th>\n",
              "      <th>chlorides</th>\n",
              "      <th>free_sulfur_dioxide</th>\n",
              "      <th>total_sulfur_dioxide</th>\n",
              "      <th>density</th>\n",
              "      <th>pH</th>\n",
              "      <th>sulphates</th>\n",
              "      <th>alcohol</th>\n",
              "    </tr>\n",
              "  </thead>\n",
              "  <tbody>\n",
              "    <tr>\n",
              "      <th>count</th>\n",
              "      <td>1300.000000</td>\n",
              "      <td>1300.000000</td>\n",
              "      <td>1300.000000</td>\n",
              "      <td>1300.000000</td>\n",
              "      <td>1300.000000</td>\n",
              "      <td>1300.000000</td>\n",
              "      <td>1300.000000</td>\n",
              "      <td>1300.000000</td>\n",
              "      <td>1300.000000</td>\n",
              "      <td>1300.000000</td>\n",
              "      <td>1300.000000</td>\n",
              "    </tr>\n",
              "    <tr>\n",
              "      <th>mean</th>\n",
              "      <td>-0.013619</td>\n",
              "      <td>-0.028778</td>\n",
              "      <td>0.024026</td>\n",
              "      <td>0.038238</td>\n",
              "      <td>-0.050498</td>\n",
              "      <td>-0.004676</td>\n",
              "      <td>0.032996</td>\n",
              "      <td>0.002740</td>\n",
              "      <td>-0.008882</td>\n",
              "      <td>-0.040971</td>\n",
              "      <td>-0.021594</td>\n",
              "    </tr>\n",
              "    <tr>\n",
              "      <th>std</th>\n",
              "      <td>1.003063</td>\n",
              "      <td>0.995719</td>\n",
              "      <td>1.005002</td>\n",
              "      <td>1.039889</td>\n",
              "      <td>0.934571</td>\n",
              "      <td>0.964362</td>\n",
              "      <td>0.992696</td>\n",
              "      <td>1.014083</td>\n",
              "      <td>1.013424</td>\n",
              "      <td>0.952416</td>\n",
              "      <td>1.012480</td>\n",
              "    </tr>\n",
              "    <tr>\n",
              "      <th>min</th>\n",
              "      <td>-2.330033</td>\n",
              "      <td>-1.581723</td>\n",
              "      <td>-2.190155</td>\n",
              "      <td>-0.997481</td>\n",
              "      <td>-1.335818</td>\n",
              "      <td>-1.596764</td>\n",
              "      <td>-1.932370</td>\n",
              "      <td>-2.439632</td>\n",
              "      <td>-3.110540</td>\n",
              "      <td>-1.880984</td>\n",
              "      <td>-2.098828</td>\n",
              "    </tr>\n",
              "    <tr>\n",
              "      <th>25%</th>\n",
              "      <td>-0.632005</td>\n",
              "      <td>-0.671343</td>\n",
              "      <td>-0.467985</td>\n",
              "      <td>-0.764381</td>\n",
              "      <td>-0.546600</td>\n",
              "      <td>-0.771586</td>\n",
              "      <td>-0.629352</td>\n",
              "      <td>-0.805127</td>\n",
              "      <td>-0.678413</td>\n",
              "      <td>-0.749062</td>\n",
              "      <td>-0.837988</td>\n",
              "    </tr>\n",
              "    <tr>\n",
              "      <th>50%</th>\n",
              "      <td>-0.246089</td>\n",
              "      <td>-0.307191</td>\n",
              "      <td>-0.054664</td>\n",
              "      <td>-0.467709</td>\n",
              "      <td>-0.264736</td>\n",
              "      <td>-0.086269</td>\n",
              "      <td>0.072953</td>\n",
              "      <td>0.048494</td>\n",
              "      <td>-0.054790</td>\n",
              "      <td>-0.216394</td>\n",
              "      <td>-0.165541</td>\n",
              "    </tr>\n",
              "    <tr>\n",
              "      <th>75%</th>\n",
              "      <td>0.294193</td>\n",
              "      <td>0.337661</td>\n",
              "      <td>0.565317</td>\n",
              "      <td>0.591833</td>\n",
              "      <td>0.165106</td>\n",
              "      <td>0.592056</td>\n",
              "      <td>0.717837</td>\n",
              "      <td>0.790918</td>\n",
              "      <td>0.568832</td>\n",
              "      <td>0.449443</td>\n",
              "      <td>0.675019</td>\n",
              "    </tr>\n",
              "    <tr>\n",
              "      <th>max</th>\n",
              "      <td>6.468843</td>\n",
              "      <td>7.522077</td>\n",
              "      <td>9.245056</td>\n",
              "      <td>5.550492</td>\n",
              "      <td>11.488978</td>\n",
              "      <td>6.039632</td>\n",
              "      <td>3.491721</td>\n",
              "      <td>5.218711</td>\n",
              "      <td>4.934189</td>\n",
              "      <td>7.041219</td>\n",
              "      <td>2.944529</td>\n",
              "    </tr>\n",
              "  </tbody>\n",
              "</table>\n",
              "</div>"
            ],
            "text/plain": [
              "       fixed_acidity  volatile_acidity  ...    sulphates      alcohol\n",
              "count    1300.000000       1300.000000  ...  1300.000000  1300.000000\n",
              "mean       -0.013619         -0.028778  ...    -0.040971    -0.021594\n",
              "std         1.003063          0.995719  ...     0.952416     1.012480\n",
              "min        -2.330033         -1.581723  ...    -1.880984    -2.098828\n",
              "25%        -0.632005         -0.671343  ...    -0.749062    -0.837988\n",
              "50%        -0.246089         -0.307191  ...    -0.216394    -0.165541\n",
              "75%         0.294193          0.337661  ...     0.449443     0.675019\n",
              "max         6.468843          7.522077  ...     7.041219     2.944529\n",
              "\n",
              "[8 rows x 11 columns]"
            ]
          },
          "metadata": {
            "tags": []
          },
          "execution_count": 17
        }
      ]
    },
    {
      "cell_type": "code",
      "metadata": {
        "colab": {
          "base_uri": "https://localhost:8080/",
          "height": 336
        },
        "id": "UXs5LGIez-Y-",
        "outputId": "b4e19044-40ba-4852-a902-b769a2fb7264"
      },
      "source": [
        "# распределения для обучающей и тестовой выборки немного отличаются\n",
        "draw_kde(['fixed_acidity', 'volatile_acidity', 'citric_acid'], data_cs12_scaled_train, data_cs12_scaled_test, 'обучающая', 'тестовая')"
      ],
      "execution_count": 18,
      "outputs": [
        {
          "output_type": "display_data",
          "data": {
            "image/png": "[encoded data removed]",
            "text/plain": [
              "<Figure size 864x360 with 2 Axes>"
            ]
          },
          "metadata": {
            "tags": [],
            "needs_background": "light"
          }
        }
      ]
    },
    {
      "cell_type": "markdown",
      "metadata": {
        "id": "x26UeVrLrUii"
      },
      "source": [
        "### Масштабирование \"Mean Normalisation\""
      ]
    },
    {
      "cell_type": "code",
      "metadata": {
        "id": "l0pQmLYFrZyH"
      },
      "source": [
        "class MeanNormalisation:\n",
        "    \n",
        "    def fit(self, param_df):\n",
        "        self.means = X_train.mean(axis=0)\n",
        "        maxs = X_train.max(axis=0)\n",
        "        mins = X_train.min(axis=0)\n",
        "        self.ranges = maxs - mins\n",
        "\n",
        "    def transform(self, param_df):\n",
        "        param_df_scaled = (param_df - self.means) / self.ranges\n",
        "        return param_df_scaled\n",
        "    \n",
        "    def fit_transform(self, param_df):\n",
        "        self.fit(param_df)\n",
        "        return self.transform(param_df)"
      ],
      "execution_count": 19,
      "outputs": []
    },
    {
      "cell_type": "code",
      "metadata": {
        "colab": {
          "base_uri": "https://localhost:8080/",
          "height": 317
        },
        "id": "eMLjj2ui0f_4",
        "outputId": "90c672a3-d981-49fc-9bcb-a25538b812cf"
      },
      "source": [
        "sc21 = MeanNormalisation()\n",
        "data_cs21_scaled = sc21.fit_transform(X_ALL)\n",
        "data_cs21_scaled.describe()"
      ],
      "execution_count": 20,
      "outputs": [
        {
          "output_type": "execute_result",
          "data": {
            "text/html": [
              "<div>\n",
              "<style scoped>\n",
              "    .dataframe tbody tr th:only-of-type {\n",
              "        vertical-align: middle;\n",
              "    }\n",
              "\n",
              "    .dataframe tbody tr th {\n",
              "        vertical-align: top;\n",
              "    }\n",
              "\n",
              "    .dataframe thead th {\n",
              "        text-align: right;\n",
              "    }\n",
              "</style>\n",
              "<table border=\"1\" class=\"dataframe\">\n",
              "  <thead>\n",
              "    <tr style=\"text-align: right;\">\n",
              "      <th></th>\n",
              "      <th>fixed_acidity</th>\n",
              "      <th>volatile_acidity</th>\n",
              "      <th>citric_acid</th>\n",
              "      <th>residual_sugar</th>\n",
              "      <th>chlorides</th>\n",
              "      <th>free_sulfur_dioxide</th>\n",
              "      <th>total_sulfur_dioxide</th>\n",
              "      <th>density</th>\n",
              "      <th>pH</th>\n",
              "      <th>sulphates</th>\n",
              "      <th>alcohol</th>\n",
              "    </tr>\n",
              "  </thead>\n",
              "  <tbody>\n",
              "    <tr>\n",
              "      <th>count</th>\n",
              "      <td>6497.000000</td>\n",
              "      <td>6497.000000</td>\n",
              "      <td>6497.000000</td>\n",
              "      <td>6497.000000</td>\n",
              "      <td>6497.000000</td>\n",
              "      <td>6497.000000</td>\n",
              "      <td>6497.000000</td>\n",
              "      <td>6497.000000</td>\n",
              "      <td>6497.000000</td>\n",
              "      <td>6497.000000</td>\n",
              "      <td>6497.000000</td>\n",
              "    </tr>\n",
              "    <tr>\n",
              "      <th>mean</th>\n",
              "      <td>-0.000292</td>\n",
              "      <td>-0.000759</td>\n",
              "      <td>0.000567</td>\n",
              "      <td>0.000554</td>\n",
              "      <td>-0.000598</td>\n",
              "      <td>-0.000058</td>\n",
              "      <td>0.000861</td>\n",
              "      <td>0.000032</td>\n",
              "      <td>-0.000224</td>\n",
              "      <td>-0.000692</td>\n",
              "      <td>-0.000745</td>\n",
              "    </tr>\n",
              "    <tr>\n",
              "      <th>std</th>\n",
              "      <td>0.107143</td>\n",
              "      <td>0.131709</td>\n",
              "      <td>0.118145</td>\n",
              "      <td>0.072972</td>\n",
              "      <td>0.058487</td>\n",
              "      <td>0.061630</td>\n",
              "      <td>0.130235</td>\n",
              "      <td>0.057811</td>\n",
              "      <td>0.126604</td>\n",
              "      <td>0.083599</td>\n",
              "      <td>0.172857</td>\n",
              "    </tr>\n",
              "    <tr>\n",
              "      <th>min</th>\n",
              "      <td>-0.282549</td>\n",
              "      <td>-0.208492</td>\n",
              "      <td>-0.258484</td>\n",
              "      <td>-0.073729</td>\n",
              "      <td>-0.079119</td>\n",
              "      <td>-0.102577</td>\n",
              "      <td>-0.252007</td>\n",
              "      <td>-0.146231</td>\n",
              "      <td>-0.392745</td>\n",
              "      <td>-0.175562</td>\n",
              "      <td>-0.361876</td>\n",
              "    </tr>\n",
              "    <tr>\n",
              "      <th>25%</th>\n",
              "      <td>-0.067673</td>\n",
              "      <td>-0.088492</td>\n",
              "      <td>-0.055232</td>\n",
              "      <td>-0.055324</td>\n",
              "      <td>-0.030705</td>\n",
              "      <td>-0.047021</td>\n",
              "      <td>-0.088412</td>\n",
              "      <td>-0.045402</td>\n",
              "      <td>-0.085658</td>\n",
              "      <td>-0.057584</td>\n",
              "      <td>-0.144484</td>\n",
              "    </tr>\n",
              "    <tr>\n",
              "      <th>50%</th>\n",
              "      <td>-0.018086</td>\n",
              "      <td>-0.040492</td>\n",
              "      <td>-0.006452</td>\n",
              "      <td>-0.036919</td>\n",
              "      <td>-0.015680</td>\n",
              "      <td>-0.005354</td>\n",
              "      <td>0.006058</td>\n",
              "      <td>0.003760</td>\n",
              "      <td>-0.006918</td>\n",
              "      <td>-0.012640</td>\n",
              "      <td>-0.028542</td>\n",
              "    </tr>\n",
              "    <tr>\n",
              "      <th>75%</th>\n",
              "      <td>0.039765</td>\n",
              "      <td>0.047508</td>\n",
              "      <td>0.058589</td>\n",
              "      <td>0.041302</td>\n",
              "      <td>0.014370</td>\n",
              "      <td>0.036312</td>\n",
              "      <td>0.093615</td>\n",
              "      <td>0.044245</td>\n",
              "      <td>0.079696</td>\n",
              "      <td>0.037922</td>\n",
              "      <td>0.116385</td>\n",
              "    </tr>\n",
              "    <tr>\n",
              "      <th>max</th>\n",
              "      <td>0.717451</td>\n",
              "      <td>0.991508</td>\n",
              "      <td>1.091109</td>\n",
              "      <td>0.926271</td>\n",
              "      <td>0.925889</td>\n",
              "      <td>0.897423</td>\n",
              "      <td>0.747993</td>\n",
              "      <td>0.853769</td>\n",
              "      <td>0.623003</td>\n",
              "      <td>0.824438</td>\n",
              "      <td>0.638124</td>\n",
              "    </tr>\n",
              "  </tbody>\n",
              "</table>\n",
              "</div>"
            ],
            "text/plain": [
              "       fixed_acidity  volatile_acidity  ...    sulphates      alcohol\n",
              "count    6497.000000       6497.000000  ...  6497.000000  6497.000000\n",
              "mean       -0.000292         -0.000759  ...    -0.000692    -0.000745\n",
              "std         0.107143          0.131709  ...     0.083599     0.172857\n",
              "min        -0.282549         -0.208492  ...    -0.175562    -0.361876\n",
              "25%        -0.067673         -0.088492  ...    -0.057584    -0.144484\n",
              "50%        -0.018086         -0.040492  ...    -0.012640    -0.028542\n",
              "75%         0.039765          0.047508  ...     0.037922     0.116385\n",
              "max         0.717451          0.991508  ...     0.824438     0.638124\n",
              "\n",
              "[8 rows x 11 columns]"
            ]
          },
          "metadata": {
            "tags": []
          },
          "execution_count": 20
        }
      ]
    },
    {
      "cell_type": "code",
      "metadata": {
        "id": "dV4TZiv30i2H"
      },
      "source": [
        "cs22 = MeanNormalisation()\n",
        "cs22.fit(X_train)\n",
        "data_cs22_scaled_train = cs22.transform(X_train)\n",
        "data_cs22_scaled_test = cs22.transform(X_test)"
      ],
      "execution_count": 21,
      "outputs": []
    },
    {
      "cell_type": "code",
      "metadata": {
        "colab": {
          "base_uri": "https://localhost:8080/",
          "height": 385
        },
        "id": "qtz-GMwe0lhR",
        "outputId": "7c9bee7c-f451-474f-87e6-c25af55882e3"
      },
      "source": [
        "data_cs22_scaled_train.describe()"
      ],
      "execution_count": 22,
      "outputs": [
        {
          "output_type": "execute_result",
          "data": {
            "text/html": [
              "<div>\n",
              "<style scoped>\n",
              "    .dataframe tbody tr th:only-of-type {\n",
              "        vertical-align: middle;\n",
              "    }\n",
              "\n",
              "    .dataframe tbody tr th {\n",
              "        vertical-align: top;\n",
              "    }\n",
              "\n",
              "    .dataframe thead th {\n",
              "        text-align: right;\n",
              "    }\n",
              "</style>\n",
              "<table border=\"1\" class=\"dataframe\">\n",
              "  <thead>\n",
              "    <tr style=\"text-align: right;\">\n",
              "      <th></th>\n",
              "      <th>fixed_acidity</th>\n",
              "      <th>volatile_acidity</th>\n",
              "      <th>citric_acid</th>\n",
              "      <th>residual_sugar</th>\n",
              "      <th>chlorides</th>\n",
              "      <th>free_sulfur_dioxide</th>\n",
              "      <th>total_sulfur_dioxide</th>\n",
              "      <th>density</th>\n",
              "      <th>pH</th>\n",
              "      <th>sulphates</th>\n",
              "      <th>alcohol</th>\n",
              "    </tr>\n",
              "  </thead>\n",
              "  <tbody>\n",
              "    <tr>\n",
              "      <th>count</th>\n",
              "      <td>5.197000e+03</td>\n",
              "      <td>5.197000e+03</td>\n",
              "      <td>5.197000e+03</td>\n",
              "      <td>5.197000e+03</td>\n",
              "      <td>5.197000e+03</td>\n",
              "      <td>5.197000e+03</td>\n",
              "      <td>5.197000e+03</td>\n",
              "      <td>5.197000e+03</td>\n",
              "      <td>5.197000e+03</td>\n",
              "      <td>5.197000e+03</td>\n",
              "      <td>5.197000e+03</td>\n",
              "    </tr>\n",
              "    <tr>\n",
              "      <th>mean</th>\n",
              "      <td>1.479462e-15</td>\n",
              "      <td>-7.441159e-16</td>\n",
              "      <td>3.230203e-15</td>\n",
              "      <td>4.100049e-17</td>\n",
              "      <td>1.583982e-16</td>\n",
              "      <td>7.974321e-18</td>\n",
              "      <td>-7.119142e-18</td>\n",
              "      <td>1.713666e-13</td>\n",
              "      <td>-3.304052e-16</td>\n",
              "      <td>-1.571993e-16</td>\n",
              "      <td>-7.341144e-15</td>\n",
              "    </tr>\n",
              "    <tr>\n",
              "      <th>std</th>\n",
              "      <td>1.070863e-01</td>\n",
              "      <td>1.318258e-01</td>\n",
              "      <td>1.180322e-01</td>\n",
              "      <td>7.238454e-02</td>\n",
              "      <td>5.923466e-02</td>\n",
              "      <td>6.207168e-02</td>\n",
              "      <td>1.304258e-01</td>\n",
              "      <td>5.765357e-02</td>\n",
              "      <td>1.262747e-01</td>\n",
              "      <td>8.438291e-02</td>\n",
              "      <td>1.724345e-01</td>\n",
              "    </tr>\n",
              "    <tr>\n",
              "      <th>min</th>\n",
              "      <td>-2.825486e-01</td>\n",
              "      <td>-2.084918e-01</td>\n",
              "      <td>-2.584840e-01</td>\n",
              "      <td>-7.372897e-02</td>\n",
              "      <td>-7.411075e-02</td>\n",
              "      <td>-1.025765e-01</td>\n",
              "      <td>-2.520067e-01</td>\n",
              "      <td>-1.462309e-01</td>\n",
              "      <td>-3.769967e-01</td>\n",
              "      <td>-1.755615e-01</td>\n",
              "      <td>-3.618755e-01</td>\n",
              "    </tr>\n",
              "    <tr>\n",
              "      <th>25%</th>\n",
              "      <td>-6.767254e-02</td>\n",
              "      <td>-8.849182e-02</td>\n",
              "      <td>-5.523199e-02</td>\n",
              "      <td>-5.532407e-02</td>\n",
              "      <td>-3.070508e-02</td>\n",
              "      <td>-4.702098e-02</td>\n",
              "      <td>-8.841218e-02</td>\n",
              "      <td>-4.520907e-02</td>\n",
              "      <td>-8.565814e-02</td>\n",
              "      <td>-5.758400e-02</td>\n",
              "      <td>-1.444842e-01</td>\n",
              "    </tr>\n",
              "    <tr>\n",
              "      <th>50%</th>\n",
              "      <td>-1.808577e-02</td>\n",
              "      <td>-4.049182e-02</td>\n",
              "      <td>-6.451502e-03</td>\n",
              "      <td>-3.691916e-02</td>\n",
              "      <td>-1.568004e-02</td>\n",
              "      <td>-5.354318e-03</td>\n",
              "      <td>6.057864e-03</td>\n",
              "      <td>3.952299e-03</td>\n",
              "      <td>-6.917983e-03</td>\n",
              "      <td>-1.264018e-02</td>\n",
              "      <td>-2.854220e-02</td>\n",
              "    </tr>\n",
              "    <tr>\n",
              "      <th>75%</th>\n",
              "      <td>3.976547e-02</td>\n",
              "      <td>5.550818e-02</td>\n",
              "      <td>5.858915e-02</td>\n",
              "      <td>4.130170e-02</td>\n",
              "      <td>1.603950e-02</td>\n",
              "      <td>3.631235e-02</td>\n",
              "      <td>9.361547e-02</td>\n",
              "      <td>4.289581e-02</td>\n",
              "      <td>7.969619e-02</td>\n",
              "      <td>3.792162e-02</td>\n",
              "      <td>1.163853e-01</td>\n",
              "    </tr>\n",
              "    <tr>\n",
              "      <th>max</th>\n",
              "      <td>7.174514e-01</td>\n",
              "      <td>7.915082e-01</td>\n",
              "      <td>7.415160e-01</td>\n",
              "      <td>9.262710e-01</td>\n",
              "      <td>9.258892e-01</td>\n",
              "      <td>8.974235e-01</td>\n",
              "      <td>7.479933e-01</td>\n",
              "      <td>8.537691e-01</td>\n",
              "      <td>6.230033e-01</td>\n",
              "      <td>8.244385e-01</td>\n",
              "      <td>6.381245e-01</td>\n",
              "    </tr>\n",
              "  </tbody>\n",
              "</table>\n",
              "</div>"
            ],
            "text/plain": [
              "       fixed_acidity  volatile_acidity  ...     sulphates       alcohol\n",
              "count   5.197000e+03      5.197000e+03  ...  5.197000e+03  5.197000e+03\n",
              "mean    1.479462e-15     -7.441159e-16  ... -1.571993e-16 -7.341144e-15\n",
              "std     1.070863e-01      1.318258e-01  ...  8.438291e-02  1.724345e-01\n",
              "min    -2.825486e-01     -2.084918e-01  ... -1.755615e-01 -3.618755e-01\n",
              "25%    -6.767254e-02     -8.849182e-02  ... -5.758400e-02 -1.444842e-01\n",
              "50%    -1.808577e-02     -4.049182e-02  ... -1.264018e-02 -2.854220e-02\n",
              "75%     3.976547e-02      5.550818e-02  ...  3.792162e-02  1.163853e-01\n",
              "max     7.174514e-01      7.915082e-01  ...  8.244385e-01  6.381245e-01\n",
              "\n",
              "[8 rows x 11 columns]"
            ]
          },
          "metadata": {
            "tags": []
          },
          "execution_count": 22
        }
      ]
    },
    {
      "cell_type": "code",
      "metadata": {
        "colab": {
          "base_uri": "https://localhost:8080/",
          "height": 317
        },
        "id": "_3NavL4E0oNc",
        "outputId": "ebb9db76-059b-4d97-d507-85c496a4a728"
      },
      "source": [
        "data_cs22_scaled_test.describe()"
      ],
      "execution_count": 23,
      "outputs": [
        {
          "output_type": "execute_result",
          "data": {
            "text/html": [
              "<div>\n",
              "<style scoped>\n",
              "    .dataframe tbody tr th:only-of-type {\n",
              "        vertical-align: middle;\n",
              "    }\n",
              "\n",
              "    .dataframe tbody tr th {\n",
              "        vertical-align: top;\n",
              "    }\n",
              "\n",
              "    .dataframe thead th {\n",
              "        text-align: right;\n",
              "    }\n",
              "</style>\n",
              "<table border=\"1\" class=\"dataframe\">\n",
              "  <thead>\n",
              "    <tr style=\"text-align: right;\">\n",
              "      <th></th>\n",
              "      <th>fixed_acidity</th>\n",
              "      <th>volatile_acidity</th>\n",
              "      <th>citric_acid</th>\n",
              "      <th>residual_sugar</th>\n",
              "      <th>chlorides</th>\n",
              "      <th>free_sulfur_dioxide</th>\n",
              "      <th>total_sulfur_dioxide</th>\n",
              "      <th>density</th>\n",
              "      <th>pH</th>\n",
              "      <th>sulphates</th>\n",
              "      <th>alcohol</th>\n",
              "    </tr>\n",
              "  </thead>\n",
              "  <tbody>\n",
              "    <tr>\n",
              "      <th>count</th>\n",
              "      <td>1300.000000</td>\n",
              "      <td>1300.000000</td>\n",
              "      <td>1300.000000</td>\n",
              "      <td>1300.000000</td>\n",
              "      <td>1300.000000</td>\n",
              "      <td>1300.000000</td>\n",
              "      <td>1300.000000</td>\n",
              "      <td>1300.000000</td>\n",
              "      <td>1300.000000</td>\n",
              "      <td>1300.000000</td>\n",
              "      <td>1300.000000</td>\n",
              "    </tr>\n",
              "    <tr>\n",
              "      <th>mean</th>\n",
              "      <td>-0.001458</td>\n",
              "      <td>-0.003793</td>\n",
              "      <td>0.002836</td>\n",
              "      <td>0.002768</td>\n",
              "      <td>-0.002991</td>\n",
              "      <td>-0.000290</td>\n",
              "      <td>0.004303</td>\n",
              "      <td>0.000158</td>\n",
              "      <td>-0.001121</td>\n",
              "      <td>-0.003457</td>\n",
              "      <td>-0.003723</td>\n",
              "    </tr>\n",
              "    <tr>\n",
              "      <th>std</th>\n",
              "      <td>0.107404</td>\n",
              "      <td>0.131249</td>\n",
              "      <td>0.118611</td>\n",
              "      <td>0.075265</td>\n",
              "      <td>0.055354</td>\n",
              "      <td>0.059854</td>\n",
              "      <td>0.129461</td>\n",
              "      <td>0.058460</td>\n",
              "      <td>0.127957</td>\n",
              "      <td>0.080360</td>\n",
              "      <td>0.174570</td>\n",
              "    </tr>\n",
              "    <tr>\n",
              "      <th>min</th>\n",
              "      <td>-0.249491</td>\n",
              "      <td>-0.208492</td>\n",
              "      <td>-0.258484</td>\n",
              "      <td>-0.072195</td>\n",
              "      <td>-0.079119</td>\n",
              "      <td>-0.099104</td>\n",
              "      <td>-0.252007</td>\n",
              "      <td>-0.140640</td>\n",
              "      <td>-0.392745</td>\n",
              "      <td>-0.158708</td>\n",
              "      <td>-0.361876</td>\n",
              "    </tr>\n",
              "    <tr>\n",
              "      <th>25%</th>\n",
              "      <td>-0.067673</td>\n",
              "      <td>-0.088492</td>\n",
              "      <td>-0.055232</td>\n",
              "      <td>-0.055324</td>\n",
              "      <td>-0.032375</td>\n",
              "      <td>-0.047889</td>\n",
              "      <td>-0.082076</td>\n",
              "      <td>-0.046414</td>\n",
              "      <td>-0.085658</td>\n",
              "      <td>-0.063202</td>\n",
              "      <td>-0.144484</td>\n",
              "    </tr>\n",
              "    <tr>\n",
              "      <th>50%</th>\n",
              "      <td>-0.026350</td>\n",
              "      <td>-0.040492</td>\n",
              "      <td>-0.006452</td>\n",
              "      <td>-0.033852</td>\n",
              "      <td>-0.015680</td>\n",
              "      <td>-0.005354</td>\n",
              "      <td>0.009514</td>\n",
              "      <td>0.002796</td>\n",
              "      <td>-0.006918</td>\n",
              "      <td>-0.018258</td>\n",
              "      <td>-0.028542</td>\n",
              "    </tr>\n",
              "    <tr>\n",
              "      <th>75%</th>\n",
              "      <td>0.031501</td>\n",
              "      <td>0.044508</td>\n",
              "      <td>0.066719</td>\n",
              "      <td>0.042835</td>\n",
              "      <td>0.009779</td>\n",
              "      <td>0.036746</td>\n",
              "      <td>0.093615</td>\n",
              "      <td>0.045595</td>\n",
              "      <td>0.071822</td>\n",
              "      <td>0.037922</td>\n",
              "      <td>0.116385</td>\n",
              "    </tr>\n",
              "    <tr>\n",
              "      <th>max</th>\n",
              "      <td>0.692658</td>\n",
              "      <td>0.991508</td>\n",
              "      <td>1.091109</td>\n",
              "      <td>0.401731</td>\n",
              "      <td>0.680480</td>\n",
              "      <td>0.374854</td>\n",
              "      <td>0.455367</td>\n",
              "      <td>0.300848</td>\n",
              "      <td>0.623003</td>\n",
              "      <td>0.594101</td>\n",
              "      <td>0.507690</td>\n",
              "    </tr>\n",
              "  </tbody>\n",
              "</table>\n",
              "</div>"
            ],
            "text/plain": [
              "       fixed_acidity  volatile_acidity  ...    sulphates      alcohol\n",
              "count    1300.000000       1300.000000  ...  1300.000000  1300.000000\n",
              "mean       -0.001458         -0.003793  ...    -0.003457    -0.003723\n",
              "std         0.107404          0.131249  ...     0.080360     0.174570\n",
              "min        -0.249491         -0.208492  ...    -0.158708    -0.361876\n",
              "25%        -0.067673         -0.088492  ...    -0.063202    -0.144484\n",
              "50%        -0.026350         -0.040492  ...    -0.018258    -0.028542\n",
              "75%         0.031501          0.044508  ...     0.037922     0.116385\n",
              "max         0.692658          0.991508  ...     0.594101     0.507690\n",
              "\n",
              "[8 rows x 11 columns]"
            ]
          },
          "metadata": {
            "tags": []
          },
          "execution_count": 23
        }
      ]
    },
    {
      "cell_type": "code",
      "metadata": {
        "colab": {
          "base_uri": "https://localhost:8080/",
          "height": 336
        },
        "id": "3pmIgnWh0rZq",
        "outputId": "54bb9b6d-f797-45b9-eafb-9d83d7c358a5"
      },
      "source": [
        "draw_kde(['fixed_acidity', 'volatile_acidity', 'citric_acid'], data, data_cs21_scaled, 'до масштабирования', 'после масштабирования')"
      ],
      "execution_count": 24,
      "outputs": [
        {
          "output_type": "display_data",
          "data": {
            "image/png": "[encoded data removed]",
            "text/plain": [
              "<Figure size 864x360 with 2 Axes>"
            ]
          },
          "metadata": {
            "tags": [],
            "needs_background": "light"
          }
        }
      ]
    },
    {
      "cell_type": "code",
      "metadata": {
        "colab": {
          "base_uri": "https://localhost:8080/",
          "height": 336
        },
        "id": "tYuDfhfJ0x1R",
        "outputId": "a930f3d0-86df-4df5-89cb-e285f0ec5aca"
      },
      "source": [
        "draw_kde(['fixed_acidity', 'volatile_acidity', 'citric_acid'], data_cs22_scaled_train, data_cs22_scaled_test, 'обучающая', 'тестовая')"
      ],
      "execution_count": 25,
      "outputs": [
        {
          "output_type": "display_data",
          "data": {
            "image/png": "[encoded data removed]",
            "text/plain": [
              "<Figure size 864x360 with 2 Axes>"
            ]
          },
          "metadata": {
            "tags": [],
            "needs_background": "light"
          }
        }
      ]
    },
    {
      "cell_type": "markdown",
      "metadata": {
        "id": "qkWJ3_PFrfbE"
      },
      "source": [
        "### MinMax-масштабирование"
      ]
    },
    {
      "cell_type": "code",
      "metadata": {
        "colab": {
          "base_uri": "https://localhost:8080/",
          "height": 317
        },
        "id": "1vEwqnrJ2U-X",
        "outputId": "a06bddf2-03f5-4a0c-c826-1477c9cbd19d"
      },
      "source": [
        "# Обучаем StandardScaler на всей выборке и масштабируем\n",
        "cs31 = MinMaxScaler()\n",
        "data_cs31_scaled_temp = cs31.fit_transform(X_ALL)\n",
        "# формируем DataFrame на основе массива\n",
        "data_cs31_scaled = arr_to_df(data_cs31_scaled_temp)\n",
        "data_cs31_scaled.describe()"
      ],
      "execution_count": 26,
      "outputs": [
        {
          "output_type": "execute_result",
          "data": {
            "text/html": [
              "<div>\n",
              "<style scoped>\n",
              "    .dataframe tbody tr th:only-of-type {\n",
              "        vertical-align: middle;\n",
              "    }\n",
              "\n",
              "    .dataframe tbody tr th {\n",
              "        vertical-align: top;\n",
              "    }\n",
              "\n",
              "    .dataframe thead th {\n",
              "        text-align: right;\n",
              "    }\n",
              "</style>\n",
              "<table border=\"1\" class=\"dataframe\">\n",
              "  <thead>\n",
              "    <tr style=\"text-align: right;\">\n",
              "      <th></th>\n",
              "      <th>fixed_acidity</th>\n",
              "      <th>volatile_acidity</th>\n",
              "      <th>citric_acid</th>\n",
              "      <th>residual_sugar</th>\n",
              "      <th>chlorides</th>\n",
              "      <th>free_sulfur_dioxide</th>\n",
              "      <th>total_sulfur_dioxide</th>\n",
              "      <th>density</th>\n",
              "      <th>pH</th>\n",
              "      <th>sulphates</th>\n",
              "      <th>alcohol</th>\n",
              "    </tr>\n",
              "  </thead>\n",
              "  <tbody>\n",
              "    <tr>\n",
              "      <th>count</th>\n",
              "      <td>6497.000000</td>\n",
              "      <td>6497.000000</td>\n",
              "      <td>6497.000000</td>\n",
              "      <td>6497.000000</td>\n",
              "      <td>6497.000000</td>\n",
              "      <td>6497.000000</td>\n",
              "      <td>6497.000000</td>\n",
              "      <td>6497.000000</td>\n",
              "      <td>6497.000000</td>\n",
              "      <td>6497.000000</td>\n",
              "      <td>6497.000000</td>\n",
              "    </tr>\n",
              "    <tr>\n",
              "      <th>mean</th>\n",
              "      <td>0.282257</td>\n",
              "      <td>0.173111</td>\n",
              "      <td>0.191948</td>\n",
              "      <td>0.074283</td>\n",
              "      <td>0.078129</td>\n",
              "      <td>0.102518</td>\n",
              "      <td>0.252868</td>\n",
              "      <td>0.146262</td>\n",
              "      <td>0.386435</td>\n",
              "      <td>0.174870</td>\n",
              "      <td>0.361131</td>\n",
              "    </tr>\n",
              "    <tr>\n",
              "      <th>std</th>\n",
              "      <td>0.107143</td>\n",
              "      <td>0.109758</td>\n",
              "      <td>0.087541</td>\n",
              "      <td>0.072972</td>\n",
              "      <td>0.058195</td>\n",
              "      <td>0.061630</td>\n",
              "      <td>0.130235</td>\n",
              "      <td>0.057811</td>\n",
              "      <td>0.124641</td>\n",
              "      <td>0.083599</td>\n",
              "      <td>0.172857</td>\n",
              "    </tr>\n",
              "    <tr>\n",
              "      <th>min</th>\n",
              "      <td>0.000000</td>\n",
              "      <td>0.000000</td>\n",
              "      <td>0.000000</td>\n",
              "      <td>0.000000</td>\n",
              "      <td>0.000000</td>\n",
              "      <td>0.000000</td>\n",
              "      <td>0.000000</td>\n",
              "      <td>0.000000</td>\n",
              "      <td>0.000000</td>\n",
              "      <td>0.000000</td>\n",
              "      <td>0.000000</td>\n",
              "    </tr>\n",
              "    <tr>\n",
              "      <th>25%</th>\n",
              "      <td>0.214876</td>\n",
              "      <td>0.100000</td>\n",
              "      <td>0.150602</td>\n",
              "      <td>0.018405</td>\n",
              "      <td>0.048173</td>\n",
              "      <td>0.055556</td>\n",
              "      <td>0.163594</td>\n",
              "      <td>0.100829</td>\n",
              "      <td>0.302326</td>\n",
              "      <td>0.117978</td>\n",
              "      <td>0.217391</td>\n",
              "    </tr>\n",
              "    <tr>\n",
              "      <th>50%</th>\n",
              "      <td>0.264463</td>\n",
              "      <td>0.140000</td>\n",
              "      <td>0.186747</td>\n",
              "      <td>0.036810</td>\n",
              "      <td>0.063123</td>\n",
              "      <td>0.097222</td>\n",
              "      <td>0.258065</td>\n",
              "      <td>0.149990</td>\n",
              "      <td>0.379845</td>\n",
              "      <td>0.162921</td>\n",
              "      <td>0.333333</td>\n",
              "    </tr>\n",
              "    <tr>\n",
              "      <th>75%</th>\n",
              "      <td>0.322314</td>\n",
              "      <td>0.213333</td>\n",
              "      <td>0.234940</td>\n",
              "      <td>0.115031</td>\n",
              "      <td>0.093023</td>\n",
              "      <td>0.138889</td>\n",
              "      <td>0.345622</td>\n",
              "      <td>0.190476</td>\n",
              "      <td>0.465116</td>\n",
              "      <td>0.213483</td>\n",
              "      <td>0.478261</td>\n",
              "    </tr>\n",
              "    <tr>\n",
              "      <th>max</th>\n",
              "      <td>1.000000</td>\n",
              "      <td>1.000000</td>\n",
              "      <td>1.000000</td>\n",
              "      <td>1.000000</td>\n",
              "      <td>1.000000</td>\n",
              "      <td>1.000000</td>\n",
              "      <td>1.000000</td>\n",
              "      <td>1.000000</td>\n",
              "      <td>1.000000</td>\n",
              "      <td>1.000000</td>\n",
              "      <td>1.000000</td>\n",
              "    </tr>\n",
              "  </tbody>\n",
              "</table>\n",
              "</div>"
            ],
            "text/plain": [
              "       fixed_acidity  volatile_acidity  ...    sulphates      alcohol\n",
              "count    6497.000000       6497.000000  ...  6497.000000  6497.000000\n",
              "mean        0.282257          0.173111  ...     0.174870     0.361131\n",
              "std         0.107143          0.109758  ...     0.083599     0.172857\n",
              "min         0.000000          0.000000  ...     0.000000     0.000000\n",
              "25%         0.214876          0.100000  ...     0.117978     0.217391\n",
              "50%         0.264463          0.140000  ...     0.162921     0.333333\n",
              "75%         0.322314          0.213333  ...     0.213483     0.478261\n",
              "max         1.000000          1.000000  ...     1.000000     1.000000\n",
              "\n",
              "[8 rows x 11 columns]"
            ]
          },
          "metadata": {
            "tags": []
          },
          "execution_count": 26
        }
      ]
    },
    {
      "cell_type": "code",
      "metadata": {
        "id": "-Y21p9FU4WcA"
      },
      "source": [
        "cs32 = MinMaxScaler()\n",
        "cs32.fit(X_train)\n",
        "data_cs32_scaled_train_temp = cs32.transform(X_train)\n",
        "data_cs32_scaled_test_temp = cs32.transform(X_test)\n",
        "# формируем DataFrame на основе массива\n",
        "data_cs32_scaled_train = arr_to_df(data_cs32_scaled_train_temp)\n",
        "data_cs32_scaled_test = arr_to_df(data_cs32_scaled_test_temp)"
      ],
      "execution_count": 27,
      "outputs": []
    },
    {
      "cell_type": "code",
      "metadata": {
        "colab": {
          "base_uri": "https://localhost:8080/",
          "height": 336
        },
        "id": "WBFCN7hH4W-q",
        "outputId": "a2f506bf-243d-4c1c-9164-55d94fea7030"
      },
      "source": [
        "draw_kde(['fixed_acidity', 'volatile_acidity', 'citric_acid'], data, data_cs31_scaled, 'до масштабирования', 'после масштабирования')"
      ],
      "execution_count": 28,
      "outputs": [
        {
          "output_type": "display_data",
          "data": {
            "image/png": "[encoded data removed]",
            "text/plain": [
              "<Figure size 864x360 with 2 Axes>"
            ]
          },
          "metadata": {
            "tags": [],
            "needs_background": "light"
          }
        }
      ]
    },
    {
      "cell_type": "code",
      "metadata": {
        "colab": {
          "base_uri": "https://localhost:8080/",
          "height": 336
        },
        "id": "ExvgWLC34wRz",
        "outputId": "9c0dddce-0fc5-46f7-c374-a11820322e98"
      },
      "source": [
        "draw_kde(['fixed_acidity', 'volatile_acidity', 'citric_acid'], data_cs32_scaled_train, data_cs32_scaled_test, 'обучающая', 'тестовая')"
      ],
      "execution_count": 29,
      "outputs": [
        {
          "output_type": "display_data",
          "data": {
            "image/png": "[encoded data removed]",
            "text/plain": [
              "<Figure size 864x360 with 2 Axes>"
            ]
          },
          "metadata": {
            "tags": [],
            "needs_background": "light"
          }
        }
      ]
    },
    {
      "cell_type": "markdown",
      "metadata": {
        "id": "jjJ1LBFP5Gfq"
      },
      "source": [
        "### Обработка выбросов"
      ]
    },
    {
      "cell_type": "markdown",
      "metadata": {
        "id": "VwfsQjPxqquT"
      },
      "source": [
        "### Удаление выбросов"
      ]
    },
    {
      "cell_type": "code",
      "metadata": {
        "id": "50sE7qH75vaX"
      },
      "source": [
        "x_col_list = ['fixed_acidity']"
      ],
      "execution_count": 30,
      "outputs": []
    },
    {
      "cell_type": "code",
      "metadata": {
        "id": "VkoWz1Vq5_HU"
      },
      "source": [
        "# Функция построения графиков - ящики с усами\n",
        "def diagnostic_plots(df, variable, title):\n",
        "    fig, ax = plt.subplots(figsize=(15,7))\n",
        "    # ящик с усами\n",
        "    plt.subplot(2, 2, 3)\n",
        "    sns.violinplot(x=df[variable])    \n",
        "    # ящик с усами\n",
        "    plt.subplot(2, 2, 4)\n",
        "    sns.boxplot(x=df[variable])  \n",
        "    fig.suptitle(title)\n",
        "    plt.show()"
      ],
      "execution_count": 31,
      "outputs": []
    },
    {
      "cell_type": "code",
      "metadata": {
        "id": "jLuGqg3_42c4"
      },
      "source": [
        "from enum import Enum\n",
        "class OutlierBoundaryType(Enum):\n",
        "    SIGMA = 1"
      ],
      "execution_count": 32,
      "outputs": []
    },
    {
      "cell_type": "code",
      "metadata": {
        "id": "FQt0dI7D5Wk7"
      },
      "source": [
        "def get_outlier_boundaries(df, col, outlier_boundary_type: OutlierBoundaryType):\n",
        "    if outlier_boundary_type == OutlierBoundaryType.SIGMA:\n",
        "        K1 = 3\n",
        "        lower_boundary = df[col].mean() - (K1 * df[col].std())\n",
        "        upper_boundary = df[col].mean() + (K1 * df[col].std())\n",
        "\n",
        "    else:\n",
        "        raise NameError('Unknown Outlier Boundary Type')\n",
        "        \n",
        "    return lower_boundary, upper_boundary"
      ],
      "execution_count": 33,
      "outputs": []
    },
    {
      "cell_type": "code",
      "metadata": {
        "colab": {
          "base_uri": "https://localhost:8080/"
        },
        "id": "8JKJwaWG5iOc",
        "outputId": "a43a88a5-e82b-4946-c1ed-b6db1c7cb488"
      },
      "source": [
        "data.shape"
      ],
      "execution_count": 34,
      "outputs": [
        {
          "output_type": "execute_result",
          "data": {
            "text/plain": [
              "(6497, 12)"
            ]
          },
          "metadata": {
            "tags": []
          },
          "execution_count": 34
        }
      ]
    },
    {
      "cell_type": "code",
      "metadata": {
        "colab": {
          "base_uri": "https://localhost:8080/",
          "height": 494
        },
        "id": "BUOCvXMr5lbA",
        "outputId": "ffac67c7-7de2-4f8f-f77a-3470e7da2cbb"
      },
      "source": [
        "for col in x_col_list:    \n",
        "    for obt in OutlierBoundaryType:\n",
        "        # Вычисление верхней и нижней границы\n",
        "        lower_boundary, upper_boundary = get_outlier_boundaries(data, col, obt)\n",
        "        # Флаги для удаления выбросов\n",
        "        outliers_temp = np.where(data[col] > upper_boundary, True, \n",
        "                                 np.where(data[col] < lower_boundary, True, False))\n",
        "        # Удаление данных на основе флага\n",
        "        data_trimmed = data.loc[~(outliers_temp), ]  \n",
        "        title = 'Поле-{}, метод-{}, строк-{}'.format(col, obt, data_trimmed.shape[0])\n",
        "        diagnostic_plots(data_trimmed, col, title)"
      ],
      "execution_count": 35,
      "outputs": [
        {
          "output_type": "display_data",
          "data": {
            "image/png": "[encoded data removed]",
            "text/plain": [
              "<Figure size 1080x504 with 2 Axes>"
            ]
          },
          "metadata": {
            "tags": [],
            "needs_background": "light"
          }
        }
      ]
    },
    {
      "cell_type": "markdown",
      "metadata": {
        "id": "YgLPCrz9qb44"
      },
      "source": [
        "### Замена выбросов"
      ]
    },
    {
      "cell_type": "code",
      "metadata": {
        "colab": {
          "base_uri": "https://localhost:8080/",
          "height": 596
        },
        "id": "GNJBdhgN5qy1",
        "outputId": "7074547e-eedb-4c8e-863d-e087adb1cb90"
      },
      "source": [
        "for col in x_col_list:    \n",
        "    for obt in OutlierBoundaryType:\n",
        "        # Вычисление верхней и нижней границы\n",
        "        lower_boundary, upper_boundary = get_outlier_boundaries(data, col, obt)\n",
        "        # Изменение данных\n",
        "        data[col] = np.where(data[col] > upper_boundary, upper_boundary, \n",
        "                                 np.where(data[col] < lower_boundary, lower_boundary, data[col]))\n",
        "        title = 'Поле-{}, метод-{}'.format(col, obt)\n",
        "        diagnostic_plots(data, col, title)"
      ],
      "execution_count": 36,
      "outputs": [
        {
          "output_type": "stream",
          "text": [
            "/usr/local/lib/python3.7/dist-packages/ipykernel_launcher.py:7: SettingWithCopyWarning: \n",
            "A value is trying to be set on a copy of a slice from a DataFrame.\n",
            "Try using .loc[row_indexer,col_indexer] = value instead\n",
            "\n",
            "See the caveats in the documentation: https://pandas.pydata.org/pandas-docs/stable/user_guide/indexing.html#returning-a-view-versus-a-copy\n",
            "  import sys\n"
          ],
          "name": "stderr"
        },
        {
          "output_type": "display_data",
          "data": {
            "image/png": "[encoded data removed]",
            "text/plain": [
              "<Figure size 1080x504 with 2 Axes>"
            ]
          },
          "metadata": {
            "tags": [],
            "needs_background": "light"
          }
        }
      ]
    },
    {
      "cell_type": "markdown",
      "metadata": {
        "id": "SzhWslLGqi1k"
      },
      "source": [
        "### Обработка нестандартного признака"
      ]
    },
    {
      "cell_type": "code",
      "metadata": {
        "id": "HGC6EIr86YfW"
      },
      "source": [
        "dataset2 = pd.read_csv(path+'/IOT-temp.csv', sep=\",\")"
      ],
      "execution_count": 46,
      "outputs": []
    },
    {
      "cell_type": "code",
      "metadata": {
        "colab": {
          "base_uri": "https://localhost:8080/",
          "height": 204
        },
        "id": "0BjaHC4ijrFs",
        "outputId": "ff389521-702a-4c95-926c-e9054b7c28a4"
      },
      "source": [
        "dataset2.head()"
      ],
      "execution_count": 47,
      "outputs": [
        {
          "output_type": "execute_result",
          "data": {
            "text/html": [
              "<div>\n",
              "<style scoped>\n",
              "    .dataframe tbody tr th:only-of-type {\n",
              "        vertical-align: middle;\n",
              "    }\n",
              "\n",
              "    .dataframe tbody tr th {\n",
              "        vertical-align: top;\n",
              "    }\n",
              "\n",
              "    .dataframe thead th {\n",
              "        text-align: right;\n",
              "    }\n",
              "</style>\n",
              "<table border=\"1\" class=\"dataframe\">\n",
              "  <thead>\n",
              "    <tr style=\"text-align: right;\">\n",
              "      <th></th>\n",
              "      <th>id</th>\n",
              "      <th>room_id/id</th>\n",
              "      <th>noted_date</th>\n",
              "      <th>temp</th>\n",
              "      <th>out/in</th>\n",
              "    </tr>\n",
              "  </thead>\n",
              "  <tbody>\n",
              "    <tr>\n",
              "      <th>0</th>\n",
              "      <td>__export__.temp_log_196134_bd201015</td>\n",
              "      <td>Room Admin</td>\n",
              "      <td>08-12-2018 09:30</td>\n",
              "      <td>29</td>\n",
              "      <td>In</td>\n",
              "    </tr>\n",
              "    <tr>\n",
              "      <th>1</th>\n",
              "      <td>__export__.temp_log_196131_7bca51bc</td>\n",
              "      <td>Room Admin</td>\n",
              "      <td>08-12-2018 09:30</td>\n",
              "      <td>29</td>\n",
              "      <td>In</td>\n",
              "    </tr>\n",
              "    <tr>\n",
              "      <th>2</th>\n",
              "      <td>__export__.temp_log_196127_522915e3</td>\n",
              "      <td>Room Admin</td>\n",
              "      <td>08-12-2018 09:29</td>\n",
              "      <td>41</td>\n",
              "      <td>Out</td>\n",
              "    </tr>\n",
              "    <tr>\n",
              "      <th>3</th>\n",
              "      <td>__export__.temp_log_196128_be0919cf</td>\n",
              "      <td>Room Admin</td>\n",
              "      <td>08-12-2018 09:29</td>\n",
              "      <td>41</td>\n",
              "      <td>Out</td>\n",
              "    </tr>\n",
              "    <tr>\n",
              "      <th>4</th>\n",
              "      <td>__export__.temp_log_196126_d30b72fb</td>\n",
              "      <td>Room Admin</td>\n",
              "      <td>08-12-2018 09:29</td>\n",
              "      <td>31</td>\n",
              "      <td>In</td>\n",
              "    </tr>\n",
              "  </tbody>\n",
              "</table>\n",
              "</div>"
            ],
            "text/plain": [
              "                                    id  room_id/id  ... temp  out/in\n",
              "0  __export__.temp_log_196134_bd201015  Room Admin  ...   29      In\n",
              "1  __export__.temp_log_196131_7bca51bc  Room Admin  ...   29      In\n",
              "2  __export__.temp_log_196127_522915e3  Room Admin  ...   41     Out\n",
              "3  __export__.temp_log_196128_be0919cf  Room Admin  ...   41     Out\n",
              "4  __export__.temp_log_196126_d30b72fb  Room Admin  ...   31      In\n",
              "\n",
              "[5 rows x 5 columns]"
            ]
          },
          "metadata": {
            "tags": []
          },
          "execution_count": 47
        }
      ]
    },
    {
      "cell_type": "code",
      "metadata": {
        "colab": {
          "base_uri": "https://localhost:8080/"
        },
        "id": "qVuGTTvPBHkh",
        "outputId": "843e7d67-a73c-40fc-88ac-4f4f61e49255"
      },
      "source": [
        "dataset2.dtypes"
      ],
      "execution_count": 48,
      "outputs": [
        {
          "output_type": "execute_result",
          "data": {
            "text/plain": [
              "id            object\n",
              "room_id/id    object\n",
              "noted_date    object\n",
              "temp           int64\n",
              "out/in        object\n",
              "dtype: object"
            ]
          },
          "metadata": {
            "tags": []
          },
          "execution_count": 48
        }
      ]
    },
    {
      "cell_type": "code",
      "metadata": {
        "id": "a2f_9Uf3BHiV"
      },
      "source": [
        "# Сконвертируем дату и время в нужный формат\n",
        "dataset2['dt'] = dataset2.apply(lambda x: pd.to_datetime(x['noted_date'], format='%d-%m-%Y %H:%M'), axis=1)"
      ],
      "execution_count": 49,
      "outputs": []
    },
    {
      "cell_type": "code",
      "metadata": {
        "colab": {
          "base_uri": "https://localhost:8080/",
          "height": 204
        },
        "id": "n5i2p_eJBHeU",
        "outputId": "cb06bd4e-c8ac-453c-b740-6df970885386"
      },
      "source": [
        "dataset2.head()"
      ],
      "execution_count": 50,
      "outputs": [
        {
          "output_type": "execute_result",
          "data": {
            "text/html": [
              "<div>\n",
              "<style scoped>\n",
              "    .dataframe tbody tr th:only-of-type {\n",
              "        vertical-align: middle;\n",
              "    }\n",
              "\n",
              "    .dataframe tbody tr th {\n",
              "        vertical-align: top;\n",
              "    }\n",
              "\n",
              "    .dataframe thead th {\n",
              "        text-align: right;\n",
              "    }\n",
              "</style>\n",
              "<table border=\"1\" class=\"dataframe\">\n",
              "  <thead>\n",
              "    <tr style=\"text-align: right;\">\n",
              "      <th></th>\n",
              "      <th>id</th>\n",
              "      <th>room_id/id</th>\n",
              "      <th>noted_date</th>\n",
              "      <th>temp</th>\n",
              "      <th>out/in</th>\n",
              "      <th>dt</th>\n",
              "    </tr>\n",
              "  </thead>\n",
              "  <tbody>\n",
              "    <tr>\n",
              "      <th>0</th>\n",
              "      <td>__export__.temp_log_196134_bd201015</td>\n",
              "      <td>Room Admin</td>\n",
              "      <td>08-12-2018 09:30</td>\n",
              "      <td>29</td>\n",
              "      <td>In</td>\n",
              "      <td>2018-12-08 09:30:00</td>\n",
              "    </tr>\n",
              "    <tr>\n",
              "      <th>1</th>\n",
              "      <td>__export__.temp_log_196131_7bca51bc</td>\n",
              "      <td>Room Admin</td>\n",
              "      <td>08-12-2018 09:30</td>\n",
              "      <td>29</td>\n",
              "      <td>In</td>\n",
              "      <td>2018-12-08 09:30:00</td>\n",
              "    </tr>\n",
              "    <tr>\n",
              "      <th>2</th>\n",
              "      <td>__export__.temp_log_196127_522915e3</td>\n",
              "      <td>Room Admin</td>\n",
              "      <td>08-12-2018 09:29</td>\n",
              "      <td>41</td>\n",
              "      <td>Out</td>\n",
              "      <td>2018-12-08 09:29:00</td>\n",
              "    </tr>\n",
              "    <tr>\n",
              "      <th>3</th>\n",
              "      <td>__export__.temp_log_196128_be0919cf</td>\n",
              "      <td>Room Admin</td>\n",
              "      <td>08-12-2018 09:29</td>\n",
              "      <td>41</td>\n",
              "      <td>Out</td>\n",
              "      <td>2018-12-08 09:29:00</td>\n",
              "    </tr>\n",
              "    <tr>\n",
              "      <th>4</th>\n",
              "      <td>__export__.temp_log_196126_d30b72fb</td>\n",
              "      <td>Room Admin</td>\n",
              "      <td>08-12-2018 09:29</td>\n",
              "      <td>31</td>\n",
              "      <td>In</td>\n",
              "      <td>2018-12-08 09:29:00</td>\n",
              "    </tr>\n",
              "  </tbody>\n",
              "</table>\n",
              "</div>"
            ],
            "text/plain": [
              "                                    id  room_id/id  ... out/in                  dt\n",
              "0  __export__.temp_log_196134_bd201015  Room Admin  ...     In 2018-12-08 09:30:00\n",
              "1  __export__.temp_log_196131_7bca51bc  Room Admin  ...     In 2018-12-08 09:30:00\n",
              "2  __export__.temp_log_196127_522915e3  Room Admin  ...    Out 2018-12-08 09:29:00\n",
              "3  __export__.temp_log_196128_be0919cf  Room Admin  ...    Out 2018-12-08 09:29:00\n",
              "4  __export__.temp_log_196126_d30b72fb  Room Admin  ...     In 2018-12-08 09:29:00\n",
              "\n",
              "[5 rows x 6 columns]"
            ]
          },
          "metadata": {
            "tags": []
          },
          "execution_count": 50
        }
      ]
    },
    {
      "cell_type": "code",
      "metadata": {
        "colab": {
          "base_uri": "https://localhost:8080/"
        },
        "id": "4orzfFkpBHVo",
        "outputId": "c2669fac-b1bd-47b2-a484-3f2beac1155c"
      },
      "source": [
        "dataset2.dtypes"
      ],
      "execution_count": 51,
      "outputs": [
        {
          "output_type": "execute_result",
          "data": {
            "text/plain": [
              "id                    object\n",
              "room_id/id            object\n",
              "noted_date            object\n",
              "temp                   int64\n",
              "out/in                object\n",
              "dt            datetime64[ns]\n",
              "dtype: object"
            ]
          },
          "metadata": {
            "tags": []
          },
          "execution_count": 51
        }
      ]
    },
    {
      "cell_type": "code",
      "metadata": {
        "id": "MPlnBobUnEgj"
      },
      "source": [
        "# День\n",
        "dataset2['day'] = dataset2['dt'].dt.day\n",
        "# Месяц\n",
        "dataset2['month'] = dataset2['dt'].dt.month\n",
        "# Год\n",
        "dataset2['year'] = dataset2['dt'].dt.year\n",
        "# Часы\n",
        "dataset2['hour'] = dataset2['dt'].dt.hour\n",
        "#Минуты\n",
        "dataset2['minute'] = dataset2['dt'].dt.minute\n",
        "#Неделя года\n",
        "dataset2['week'] = dataset2['dt'].dt.isocalendar().week\n",
        "#Квартал\n",
        "dataset2['quarter'] = dataset2['dt'].dt.quarter\n",
        "#День недели \n",
        "dataset2['dayofweek'] = dataset2['dt'].dt.dayofweek\n",
        "#Выходной день\n",
        "dataset2['day_name'] = dataset2['dt'].dt.day_name()\n",
        "dataset2['is_holiday'] = dataset2.apply(lambda x: 1 if x['dt'].dayofweek in [5,6] else 0, axis=1)"
      ],
      "execution_count": 52,
      "outputs": []
    },
    {
      "cell_type": "code",
      "metadata": {
        "colab": {
          "base_uri": "https://localhost:8080/",
          "height": 394
        },
        "id": "Y8TW-Df0nEYI",
        "outputId": "733990c9-7371-42ea-c013-509d949d5786"
      },
      "source": [
        "dataset2.head()"
      ],
      "execution_count": 53,
      "outputs": [
        {
          "output_type": "execute_result",
          "data": {
            "text/html": [
              "<div>\n",
              "<style scoped>\n",
              "    .dataframe tbody tr th:only-of-type {\n",
              "        vertical-align: middle;\n",
              "    }\n",
              "\n",
              "    .dataframe tbody tr th {\n",
              "        vertical-align: top;\n",
              "    }\n",
              "\n",
              "    .dataframe thead th {\n",
              "        text-align: right;\n",
              "    }\n",
              "</style>\n",
              "<table border=\"1\" class=\"dataframe\">\n",
              "  <thead>\n",
              "    <tr style=\"text-align: right;\">\n",
              "      <th></th>\n",
              "      <th>id</th>\n",
              "      <th>room_id/id</th>\n",
              "      <th>noted_date</th>\n",
              "      <th>temp</th>\n",
              "      <th>out/in</th>\n",
              "      <th>dt</th>\n",
              "      <th>day</th>\n",
              "      <th>month</th>\n",
              "      <th>year</th>\n",
              "      <th>hour</th>\n",
              "      <th>minute</th>\n",
              "      <th>week</th>\n",
              "      <th>quarter</th>\n",
              "      <th>dayofweek</th>\n",
              "      <th>day_name</th>\n",
              "      <th>is_holiday</th>\n",
              "    </tr>\n",
              "  </thead>\n",
              "  <tbody>\n",
              "    <tr>\n",
              "      <th>0</th>\n",
              "      <td>__export__.temp_log_196134_bd201015</td>\n",
              "      <td>Room Admin</td>\n",
              "      <td>08-12-2018 09:30</td>\n",
              "      <td>29</td>\n",
              "      <td>In</td>\n",
              "      <td>2018-12-08 09:30:00</td>\n",
              "      <td>8</td>\n",
              "      <td>12</td>\n",
              "      <td>2018</td>\n",
              "      <td>9</td>\n",
              "      <td>30</td>\n",
              "      <td>49</td>\n",
              "      <td>4</td>\n",
              "      <td>5</td>\n",
              "      <td>Saturday</td>\n",
              "      <td>1</td>\n",
              "    </tr>\n",
              "    <tr>\n",
              "      <th>1</th>\n",
              "      <td>__export__.temp_log_196131_7bca51bc</td>\n",
              "      <td>Room Admin</td>\n",
              "      <td>08-12-2018 09:30</td>\n",
              "      <td>29</td>\n",
              "      <td>In</td>\n",
              "      <td>2018-12-08 09:30:00</td>\n",
              "      <td>8</td>\n",
              "      <td>12</td>\n",
              "      <td>2018</td>\n",
              "      <td>9</td>\n",
              "      <td>30</td>\n",
              "      <td>49</td>\n",
              "      <td>4</td>\n",
              "      <td>5</td>\n",
              "      <td>Saturday</td>\n",
              "      <td>1</td>\n",
              "    </tr>\n",
              "    <tr>\n",
              "      <th>2</th>\n",
              "      <td>__export__.temp_log_196127_522915e3</td>\n",
              "      <td>Room Admin</td>\n",
              "      <td>08-12-2018 09:29</td>\n",
              "      <td>41</td>\n",
              "      <td>Out</td>\n",
              "      <td>2018-12-08 09:29:00</td>\n",
              "      <td>8</td>\n",
              "      <td>12</td>\n",
              "      <td>2018</td>\n",
              "      <td>9</td>\n",
              "      <td>29</td>\n",
              "      <td>49</td>\n",
              "      <td>4</td>\n",
              "      <td>5</td>\n",
              "      <td>Saturday</td>\n",
              "      <td>1</td>\n",
              "    </tr>\n",
              "    <tr>\n",
              "      <th>3</th>\n",
              "      <td>__export__.temp_log_196128_be0919cf</td>\n",
              "      <td>Room Admin</td>\n",
              "      <td>08-12-2018 09:29</td>\n",
              "      <td>41</td>\n",
              "      <td>Out</td>\n",
              "      <td>2018-12-08 09:29:00</td>\n",
              "      <td>8</td>\n",
              "      <td>12</td>\n",
              "      <td>2018</td>\n",
              "      <td>9</td>\n",
              "      <td>29</td>\n",
              "      <td>49</td>\n",
              "      <td>4</td>\n",
              "      <td>5</td>\n",
              "      <td>Saturday</td>\n",
              "      <td>1</td>\n",
              "    </tr>\n",
              "    <tr>\n",
              "      <th>4</th>\n",
              "      <td>__export__.temp_log_196126_d30b72fb</td>\n",
              "      <td>Room Admin</td>\n",
              "      <td>08-12-2018 09:29</td>\n",
              "      <td>31</td>\n",
              "      <td>In</td>\n",
              "      <td>2018-12-08 09:29:00</td>\n",
              "      <td>8</td>\n",
              "      <td>12</td>\n",
              "      <td>2018</td>\n",
              "      <td>9</td>\n",
              "      <td>29</td>\n",
              "      <td>49</td>\n",
              "      <td>4</td>\n",
              "      <td>5</td>\n",
              "      <td>Saturday</td>\n",
              "      <td>1</td>\n",
              "    </tr>\n",
              "  </tbody>\n",
              "</table>\n",
              "</div>"
            ],
            "text/plain": [
              "                                    id  room_id/id  ...  day_name  is_holiday\n",
              "0  __export__.temp_log_196134_bd201015  Room Admin  ...  Saturday           1\n",
              "1  __export__.temp_log_196131_7bca51bc  Room Admin  ...  Saturday           1\n",
              "2  __export__.temp_log_196127_522915e3  Room Admin  ...  Saturday           1\n",
              "3  __export__.temp_log_196128_be0919cf  Room Admin  ...  Saturday           1\n",
              "4  __export__.temp_log_196126_d30b72fb  Room Admin  ...  Saturday           1\n",
              "\n",
              "[5 rows x 16 columns]"
            ]
          },
          "metadata": {
            "tags": []
          },
          "execution_count": 53
        }
      ]
    },
    {
      "cell_type": "code",
      "metadata": {
        "colab": {
          "base_uri": "https://localhost:8080/"
        },
        "id": "PVeBwdj6nWaV",
        "outputId": "8083c674-8fab-4fff-afb4-deb90358c30d"
      },
      "source": [
        "# Разница между датами \n",
        "dataset2['now'] = datetime.datetime.today()\n",
        "dataset2['diff'] = dataset2['now'] - dataset2['dt']\n",
        "dataset2.dtypes"
      ],
      "execution_count": 54,
      "outputs": [
        {
          "output_type": "execute_result",
          "data": {
            "text/plain": [
              "id                     object\n",
              "room_id/id             object\n",
              "noted_date             object\n",
              "temp                    int64\n",
              "out/in                 object\n",
              "dt             datetime64[ns]\n",
              "day                     int64\n",
              "month                   int64\n",
              "year                    int64\n",
              "hour                    int64\n",
              "minute                  int64\n",
              "week                   UInt32\n",
              "quarter                 int64\n",
              "dayofweek               int64\n",
              "day_name               object\n",
              "is_holiday              int64\n",
              "now            datetime64[ns]\n",
              "diff          timedelta64[ns]\n",
              "dtype: object"
            ]
          },
          "metadata": {
            "tags": []
          },
          "execution_count": 54
        }
      ]
    },
    {
      "cell_type": "code",
      "metadata": {
        "colab": {
          "base_uri": "https://localhost:8080/",
          "height": 394
        },
        "id": "oDt9YFgSnWSI",
        "outputId": "b3be9c69-2617-4411-9c91-e954f8565e6c"
      },
      "source": [
        "dataset2.head()"
      ],
      "execution_count": 55,
      "outputs": [
        {
          "output_type": "execute_result",
          "data": {
            "text/html": [
              "<div>\n",
              "<style scoped>\n",
              "    .dataframe tbody tr th:only-of-type {\n",
              "        vertical-align: middle;\n",
              "    }\n",
              "\n",
              "    .dataframe tbody tr th {\n",
              "        vertical-align: top;\n",
              "    }\n",
              "\n",
              "    .dataframe thead th {\n",
              "        text-align: right;\n",
              "    }\n",
              "</style>\n",
              "<table border=\"1\" class=\"dataframe\">\n",
              "  <thead>\n",
              "    <tr style=\"text-align: right;\">\n",
              "      <th></th>\n",
              "      <th>id</th>\n",
              "      <th>room_id/id</th>\n",
              "      <th>noted_date</th>\n",
              "      <th>temp</th>\n",
              "      <th>out/in</th>\n",
              "      <th>dt</th>\n",
              "      <th>day</th>\n",
              "      <th>month</th>\n",
              "      <th>year</th>\n",
              "      <th>hour</th>\n",
              "      <th>minute</th>\n",
              "      <th>week</th>\n",
              "      <th>quarter</th>\n",
              "      <th>dayofweek</th>\n",
              "      <th>day_name</th>\n",
              "      <th>is_holiday</th>\n",
              "      <th>now</th>\n",
              "      <th>diff</th>\n",
              "    </tr>\n",
              "  </thead>\n",
              "  <tbody>\n",
              "    <tr>\n",
              "      <th>0</th>\n",
              "      <td>__export__.temp_log_196134_bd201015</td>\n",
              "      <td>Room Admin</td>\n",
              "      <td>08-12-2018 09:30</td>\n",
              "      <td>29</td>\n",
              "      <td>In</td>\n",
              "      <td>2018-12-08 09:30:00</td>\n",
              "      <td>8</td>\n",
              "      <td>12</td>\n",
              "      <td>2018</td>\n",
              "      <td>9</td>\n",
              "      <td>30</td>\n",
              "      <td>49</td>\n",
              "      <td>4</td>\n",
              "      <td>5</td>\n",
              "      <td>Saturday</td>\n",
              "      <td>1</td>\n",
              "      <td>2021-04-14 18:21:45.239533</td>\n",
              "      <td>858 days 08:51:45.239533</td>\n",
              "    </tr>\n",
              "    <tr>\n",
              "      <th>1</th>\n",
              "      <td>__export__.temp_log_196131_7bca51bc</td>\n",
              "      <td>Room Admin</td>\n",
              "      <td>08-12-2018 09:30</td>\n",
              "      <td>29</td>\n",
              "      <td>In</td>\n",
              "      <td>2018-12-08 09:30:00</td>\n",
              "      <td>8</td>\n",
              "      <td>12</td>\n",
              "      <td>2018</td>\n",
              "      <td>9</td>\n",
              "      <td>30</td>\n",
              "      <td>49</td>\n",
              "      <td>4</td>\n",
              "      <td>5</td>\n",
              "      <td>Saturday</td>\n",
              "      <td>1</td>\n",
              "      <td>2021-04-14 18:21:45.239533</td>\n",
              "      <td>858 days 08:51:45.239533</td>\n",
              "    </tr>\n",
              "    <tr>\n",
              "      <th>2</th>\n",
              "      <td>__export__.temp_log_196127_522915e3</td>\n",
              "      <td>Room Admin</td>\n",
              "      <td>08-12-2018 09:29</td>\n",
              "      <td>41</td>\n",
              "      <td>Out</td>\n",
              "      <td>2018-12-08 09:29:00</td>\n",
              "      <td>8</td>\n",
              "      <td>12</td>\n",
              "      <td>2018</td>\n",
              "      <td>9</td>\n",
              "      <td>29</td>\n",
              "      <td>49</td>\n",
              "      <td>4</td>\n",
              "      <td>5</td>\n",
              "      <td>Saturday</td>\n",
              "      <td>1</td>\n",
              "      <td>2021-04-14 18:21:45.239533</td>\n",
              "      <td>858 days 08:52:45.239533</td>\n",
              "    </tr>\n",
              "    <tr>\n",
              "      <th>3</th>\n",
              "      <td>__export__.temp_log_196128_be0919cf</td>\n",
              "      <td>Room Admin</td>\n",
              "      <td>08-12-2018 09:29</td>\n",
              "      <td>41</td>\n",
              "      <td>Out</td>\n",
              "      <td>2018-12-08 09:29:00</td>\n",
              "      <td>8</td>\n",
              "      <td>12</td>\n",
              "      <td>2018</td>\n",
              "      <td>9</td>\n",
              "      <td>29</td>\n",
              "      <td>49</td>\n",
              "      <td>4</td>\n",
              "      <td>5</td>\n",
              "      <td>Saturday</td>\n",
              "      <td>1</td>\n",
              "      <td>2021-04-14 18:21:45.239533</td>\n",
              "      <td>858 days 08:52:45.239533</td>\n",
              "    </tr>\n",
              "    <tr>\n",
              "      <th>4</th>\n",
              "      <td>__export__.temp_log_196126_d30b72fb</td>\n",
              "      <td>Room Admin</td>\n",
              "      <td>08-12-2018 09:29</td>\n",
              "      <td>31</td>\n",
              "      <td>In</td>\n",
              "      <td>2018-12-08 09:29:00</td>\n",
              "      <td>8</td>\n",
              "      <td>12</td>\n",
              "      <td>2018</td>\n",
              "      <td>9</td>\n",
              "      <td>29</td>\n",
              "      <td>49</td>\n",
              "      <td>4</td>\n",
              "      <td>5</td>\n",
              "      <td>Saturday</td>\n",
              "      <td>1</td>\n",
              "      <td>2021-04-14 18:21:45.239533</td>\n",
              "      <td>858 days 08:52:45.239533</td>\n",
              "    </tr>\n",
              "  </tbody>\n",
              "</table>\n",
              "</div>"
            ],
            "text/plain": [
              "                                    id  ...                     diff\n",
              "0  __export__.temp_log_196134_bd201015  ... 858 days 08:51:45.239533\n",
              "1  __export__.temp_log_196131_7bca51bc  ... 858 days 08:51:45.239533\n",
              "2  __export__.temp_log_196127_522915e3  ... 858 days 08:52:45.239533\n",
              "3  __export__.temp_log_196128_be0919cf  ... 858 days 08:52:45.239533\n",
              "4  __export__.temp_log_196126_d30b72fb  ... 858 days 08:52:45.239533\n",
              "\n",
              "[5 rows x 18 columns]"
            ]
          },
          "metadata": {
            "tags": []
          },
          "execution_count": 55
        }
      ]
    },
    {
      "cell_type": "markdown",
      "metadata": {
        "id": "Nv8uxzKzqAXz"
      },
      "source": [
        "### Отбор признаков из группы методов фильтрации (корреляция признаков¶)"
      ]
    },
    {
      "cell_type": "code",
      "metadata": {
        "colab": {
          "base_uri": "https://localhost:8080/",
          "height": 700
        },
        "id": "h10jVNUvjtXO",
        "outputId": "8134f65a-7a75-402e-adb9-70b82a76711a"
      },
      "source": [
        "plt.figure(figsize=(13,10))\n",
        "sns.heatmap(data.corr(), cmap=\"Oranges\", annot=True, linewidths=3)"
      ],
      "execution_count": 138,
      "outputs": [
        {
          "output_type": "execute_result",
          "data": {
            "text/plain": [
              "<matplotlib.axes._subplots.AxesSubplot at 0x7f0cbd488150>"
            ]
          },
          "metadata": {
            "tags": []
          },
          "execution_count": 138
        },
        {
          "output_type": "display_data",
          "data": {
            "image/png": "[encoded data removed]",
            "text/plain": [
              "<Figure size 936x720 with 2 Axes>"
            ]
          },
          "metadata": {
            "tags": [],
            "needs_background": "light"
          }
        }
      ]
    },
    {
      "cell_type": "code",
      "metadata": {
        "id": "XwT_XHYvtJQJ"
      },
      "source": [
        "# Формирование DataFrame с сильными корреляциями\n",
        "def make_corr_df(df):\n",
        "    cr = data.corr()\n",
        "    cr = cr.abs().unstack() \n",
        "    cr = cr.sort_values(ascending=False)\n",
        "    cr = cr[cr >= 0.6]\n",
        "    cr = cr[cr < 1]\n",
        "    cr = pd.DataFrame(cr).reset_index()\n",
        "    cr.columns = ['f1', 'f2', 'corr']\n",
        "    return cr"
      ],
      "execution_count": 139,
      "outputs": []
    },
    {
      "cell_type": "code",
      "metadata": {
        "colab": {
          "base_uri": "https://localhost:8080/",
          "height": 173
        },
        "id": "-M9hU3hVt9vW",
        "outputId": "9bd220a2-d296-463b-ee9e-d242a4ac1c5c"
      },
      "source": [
        "make_corr_df(data)"
      ],
      "execution_count": 140,
      "outputs": [
        {
          "output_type": "execute_result",
          "data": {
            "text/html": [
              "<div>\n",
              "<style scoped>\n",
              "    .dataframe tbody tr th:only-of-type {\n",
              "        vertical-align: middle;\n",
              "    }\n",
              "\n",
              "    .dataframe tbody tr th {\n",
              "        vertical-align: top;\n",
              "    }\n",
              "\n",
              "    .dataframe thead th {\n",
              "        text-align: right;\n",
              "    }\n",
              "</style>\n",
              "<table border=\"1\" class=\"dataframe\">\n",
              "  <thead>\n",
              "    <tr style=\"text-align: right;\">\n",
              "      <th></th>\n",
              "      <th>f1</th>\n",
              "      <th>f2</th>\n",
              "      <th>corr</th>\n",
              "    </tr>\n",
              "  </thead>\n",
              "  <tbody>\n",
              "    <tr>\n",
              "      <th>0</th>\n",
              "      <td>free_sulfur_dioxide</td>\n",
              "      <td>total_sulfur_dioxide</td>\n",
              "      <td>0.720934</td>\n",
              "    </tr>\n",
              "    <tr>\n",
              "      <th>1</th>\n",
              "      <td>total_sulfur_dioxide</td>\n",
              "      <td>free_sulfur_dioxide</td>\n",
              "      <td>0.720934</td>\n",
              "    </tr>\n",
              "    <tr>\n",
              "      <th>2</th>\n",
              "      <td>alcohol</td>\n",
              "      <td>density</td>\n",
              "      <td>0.686745</td>\n",
              "    </tr>\n",
              "    <tr>\n",
              "      <th>3</th>\n",
              "      <td>density</td>\n",
              "      <td>alcohol</td>\n",
              "      <td>0.686745</td>\n",
              "    </tr>\n",
              "  </tbody>\n",
              "</table>\n",
              "</div>"
            ],
            "text/plain": [
              "                     f1                    f2      corr\n",
              "0   free_sulfur_dioxide  total_sulfur_dioxide  0.720934\n",
              "1  total_sulfur_dioxide   free_sulfur_dioxide  0.720934\n",
              "2               alcohol               density  0.686745\n",
              "3               density               alcohol  0.686745"
            ]
          },
          "metadata": {
            "tags": []
          },
          "execution_count": 140
        }
      ]
    },
    {
      "cell_type": "code",
      "metadata": {
        "id": "PIZ3EPyjt99c"
      },
      "source": [
        "# Обнаружение групп коррелирующих признаков\n",
        "def corr_groups(cr):\n",
        "    grouped_feature_list = []\n",
        "    correlated_groups = []\n",
        "\n",
        "    for feature in cr['f1'].unique():\n",
        "        if feature not in grouped_feature_list:\n",
        "            # находим коррелирующие признаки\n",
        "            correlated_block = cr[cr['f1'] == feature]\n",
        "            cur_dups = list(correlated_block['f2'].unique()) + [feature]\n",
        "            grouped_feature_list = grouped_feature_list + cur_dups\n",
        "            correlated_groups.append(cur_dups)\n",
        "    return correlated_groups"
      ],
      "execution_count": 141,
      "outputs": []
    },
    {
      "cell_type": "code",
      "metadata": {
        "colab": {
          "base_uri": "https://localhost:8080/"
        },
        "id": "xfglJlUnuP2O",
        "outputId": "5233d858-5b82-4d02-b86c-69dbea3b06e3"
      },
      "source": [
        "# Группы коррелирующих признаков\n",
        "corr_groups(make_corr_df(data))"
      ],
      "execution_count": 142,
      "outputs": [
        {
          "output_type": "execute_result",
          "data": {
            "text/plain": [
              "[['total_sulfur_dioxide', 'free_sulfur_dioxide'], ['density', 'alcohol']]"
            ]
          },
          "metadata": {
            "tags": []
          },
          "execution_count": 142
        }
      ]
    },
    {
      "cell_type": "markdown",
      "metadata": {
        "id": "7WbO4QLxuw5a"
      },
      "source": [
        "### Отбор признаков из группы методов обертывания (алгоритм полного перебора)"
      ]
    },
    {
      "cell_type": "code",
      "metadata": {
        "id": "0GTu3aoWuSLs"
      },
      "source": [
        "from sklearn.neighbors import KNeighborsClassifier\n",
        "from mlxtend.feature_selection import ExhaustiveFeatureSelector as EFS\n",
        "\n",
        "knn = KNeighborsClassifier(n_neighbors=3)"
      ],
      "execution_count": 143,
      "outputs": []
    },
    {
      "cell_type": "code",
      "metadata": {
        "colab": {
          "base_uri": "https://localhost:8080/"
        },
        "id": "wYuG_EEyvrmB",
        "outputId": "186e230c-59bd-4e67-a00b-ecf7f1a9b72b"
      },
      "source": [
        "efs1 = EFS(knn, \n",
        "           min_features=2,\n",
        "           max_features=4,\n",
        "           scoring='accuracy',\n",
        "           print_progress=True,\n",
        "           cv=5)\n",
        "\n",
        "efs1 = efs1.fit(X_train, y_train, custom_feature_names=X_ALL.columns)\n",
        "\n",
        "print('Best accuracy score: %.2f' % efs1.best_score_)\n",
        "print('Best subset (indices):', efs1.best_idx_)\n",
        "print('Best subset (corresponding names):', efs1.best_feature_names_)"
      ],
      "execution_count": 144,
      "outputs": [
        {
          "output_type": "stream",
          "text": [
            "Features: 550/550"
          ],
          "name": "stderr"
        },
        {
          "output_type": "stream",
          "text": [
            "Best accuracy score: 0.52\n",
            "Best subset (indices): (1, 8, 9, 10)\n",
            "Best subset (corresponding names): ('volatile_acidity', 'pH', 'sulphates', 'alcohol')\n"
          ],
          "name": "stdout"
        }
      ]
    },
    {
      "cell_type": "markdown",
      "metadata": {
        "id": "7DtrCLfPyyfb"
      },
      "source": [
        "### Отбор признаков из группы методов вложения (логистическая регрессия)"
      ]
    },
    {
      "cell_type": "code",
      "metadata": {
        "colab": {
          "base_uri": "https://localhost:8080/"
        },
        "id": "ROf8G_ppyOcs",
        "outputId": "444aaf69-b1db-40c8-f05f-de8d04cf7e57"
      },
      "source": [
        "from sklearn.linear_model import LogisticRegression\n",
        "# Используем L1-регуляризацию\n",
        "e_lr1 = LogisticRegression(C=1000, solver='liblinear', penalty='l1', max_iter=500, random_state=1)\n",
        "e_lr1.fit(X_train, y_train)\n",
        "# Коэффициенты регрессии\n",
        "e_lr1.coef_"
      ],
      "execution_count": 145,
      "outputs": [
        {
          "output_type": "execute_result",
          "data": {
            "text/plain": [
              "array([[ 6.94383322e-01,  3.18374270e+00, -1.17637148e+00,\n",
              "         3.35009372e-03,  1.21101386e+01,  2.24078889e-02,\n",
              "         6.74153463e-03, -1.10907226e+01,  2.70741660e+00,\n",
              "        -5.66790771e+00,  4.43135359e-02],\n",
              "       [-8.27887767e-02,  3.75110460e+00,  3.15366433e-01,\n",
              "        -4.06124208e-02, -2.72478058e+00, -6.03005118e-02,\n",
              "         8.96579063e-03,  9.70194969e-01, -2.00306301e-02,\n",
              "        -3.89609133e+00, -3.01133506e-01],\n",
              "       [-7.26044043e-03,  3.22778718e+00,  4.46458473e-01,\n",
              "        -6.45138862e-02,  7.09705965e-01, -1.13938271e-02,\n",
              "         6.17821042e-03,  4.61628965e+00, -4.41751701e-02,\n",
              "        -1.37044545e+00, -9.42812425e-01],\n",
              "       [ 2.04348600e-02, -2.37489634e+00, -4.43102519e-01,\n",
              "         3.05368902e-02,  1.33813235e+00,  5.24738566e-03,\n",
              "        -3.65234526e-03, -7.46543178e-01,  1.33442839e-01,\n",
              "         5.32709994e-01,  1.25475131e-01],\n",
              "       [ 1.28843031e-01, -4.03883142e+00, -5.23470732e-01,\n",
              "         4.45581139e-02, -1.08191035e+01,  8.13902330e-03,\n",
              "        -4.63515539e-03, -5.87893370e+00,  8.11919594e-01,\n",
              "         1.87560944e+00,  7.41592169e-01],\n",
              "       [-4.82562086e-02, -2.01470226e+00,  3.70650247e-01,\n",
              "         8.71068375e-02, -6.81098290e+00,  2.30294010e-02,\n",
              "        -4.29277740e-03, -6.87216318e+00,  3.75480320e-02,\n",
              "         1.42412584e-02,  9.27091581e-01],\n",
              "       [ 1.29843039e+00,  3.89047504e-01,  1.12141372e+00,\n",
              "         1.23165374e-01, -2.35565884e+02,  2.44876464e-02,\n",
              "        -5.64175969e-03, -2.58167685e+01,  1.07157805e+01,\n",
              "        -5.89567264e-01,  6.56143806e-01]])"
            ]
          },
          "metadata": {
            "tags": []
          },
          "execution_count": 145
        }
      ]
    },
    {
      "cell_type": "code",
      "metadata": {
        "colab": {
          "base_uri": "https://localhost:8080/"
        },
        "id": "QKPlg_34zUbN",
        "outputId": "551761d1-60d8-4bdd-fbc4-ff661abc5991"
      },
      "source": [
        "from sklearn.feature_selection import SelectFromModel\n",
        "sel_e_lr1 = SelectFromModel(e_lr1)\n",
        "sel_e_lr1.fit(X_train, y_train)\n",
        "sel_e_lr1.get_support()"
      ],
      "execution_count": 146,
      "outputs": [
        {
          "output_type": "execute_result",
          "data": {
            "text/plain": [
              "array([ True,  True,  True,  True,  True,  True,  True,  True,  True,\n",
              "        True,  True])"
            ]
          },
          "metadata": {
            "tags": []
          },
          "execution_count": 146
        }
      ]
    }
  ]
}