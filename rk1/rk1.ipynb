{
  "nbformat": 4,
  "nbformat_minor": 0,
  "metadata": {
    "colab": {
      "name": "rk1.ipynb",
      "provenance": []
    },
    "kernelspec": {
      "name": "python3",
      "display_name": "Python 3"
    },
    "language_info": {
      "name": "python"
    }
  },
  "cells": [
    {
      "cell_type": "markdown",
      "metadata": {
        "id": "xrQC3rcygt3E"
      },
      "source": [
        "# Рубежный контроль по курсу \"Методы машинного обучения\"\n",
        "## Студентка ИУ5-21М Курганова Александра\n",
        "### Вариант №3 (задача №3, задача №23) \n",
        "#### + для пары произвольных колонок данных построить график \"Диаграмма рассеяния\"\n"
      ]
    },
    {
      "cell_type": "code",
      "metadata": {
        "colab": {
          "base_uri": "https://localhost:8080/"
        },
        "id": "tMmZRUXRh-BL",
        "outputId": "d0bf165f-bb82-4aaf-a12d-3f9beac1462d"
      },
      "source": [
        "from google.colab import drive\n",
        "drive.mount('/content/drive', force_remount=True)\n",
        "path = \"/content/drive/My Drive/Colab Notebooks/ммо/rk1\""
      ],
      "execution_count": 250,
      "outputs": [
        {
          "output_type": "stream",
          "text": [
            "Mounted at /content/drive\n"
          ],
          "name": "stdout"
        }
      ]
    },
    {
      "cell_type": "code",
      "metadata": {
        "id": "XYjtDWoli8kE"
      },
      "source": [
        "import numpy as np\n",
        "import pandas as pd\n",
        "import matplotlib.pyplot as plt\n",
        "import seaborn as sns"
      ],
      "execution_count": 251,
      "outputs": []
    },
    {
      "cell_type": "code",
      "metadata": {
        "id": "dapyG_TLjSin"
      },
      "source": [
        "dataset = pd.read_csv(path+'/telecom_users.csv')"
      ],
      "execution_count": 252,
      "outputs": []
    },
    {
      "cell_type": "code",
      "metadata": {
        "colab": {
          "base_uri": "https://localhost:8080/",
          "height": 326
        },
        "id": "buJlrJ-Hjccs",
        "outputId": "d58f81ed-a4fb-459d-e12f-2c4d710ab483"
      },
      "source": [
        "dataset.head()"
      ],
      "execution_count": 253,
      "outputs": [
        {
          "output_type": "execute_result",
          "data": {
            "text/html": [
              "<div>\n",
              "<style scoped>\n",
              "    .dataframe tbody tr th:only-of-type {\n",
              "        vertical-align: middle;\n",
              "    }\n",
              "\n",
              "    .dataframe tbody tr th {\n",
              "        vertical-align: top;\n",
              "    }\n",
              "\n",
              "    .dataframe thead th {\n",
              "        text-align: right;\n",
              "    }\n",
              "</style>\n",
              "<table border=\"1\" class=\"dataframe\">\n",
              "  <thead>\n",
              "    <tr style=\"text-align: right;\">\n",
              "      <th></th>\n",
              "      <th>Unnamed: 0</th>\n",
              "      <th>customerID</th>\n",
              "      <th>gender</th>\n",
              "      <th>SeniorCitizen</th>\n",
              "      <th>Partner</th>\n",
              "      <th>Dependents</th>\n",
              "      <th>tenure</th>\n",
              "      <th>PhoneService</th>\n",
              "      <th>MultipleLines</th>\n",
              "      <th>InternetService</th>\n",
              "      <th>OnlineSecurity</th>\n",
              "      <th>OnlineBackup</th>\n",
              "      <th>DeviceProtection</th>\n",
              "      <th>TechSupport</th>\n",
              "      <th>StreamingTV</th>\n",
              "      <th>StreamingMovies</th>\n",
              "      <th>Contract</th>\n",
              "      <th>PaperlessBilling</th>\n",
              "      <th>PaymentMethod</th>\n",
              "      <th>MonthlyCharges</th>\n",
              "      <th>TotalCharges</th>\n",
              "      <th>Churn</th>\n",
              "    </tr>\n",
              "  </thead>\n",
              "  <tbody>\n",
              "    <tr>\n",
              "      <th>0</th>\n",
              "      <td>1869</td>\n",
              "      <td>7010-BRBUU</td>\n",
              "      <td>Male</td>\n",
              "      <td>0</td>\n",
              "      <td>Yes</td>\n",
              "      <td>Yes</td>\n",
              "      <td>72</td>\n",
              "      <td>Yes</td>\n",
              "      <td>Yes</td>\n",
              "      <td>No</td>\n",
              "      <td>No internet service</td>\n",
              "      <td>No internet service</td>\n",
              "      <td>No internet service</td>\n",
              "      <td>No internet service</td>\n",
              "      <td>No internet service</td>\n",
              "      <td>No internet service</td>\n",
              "      <td>Two year</td>\n",
              "      <td>No</td>\n",
              "      <td>Credit card (automatic)</td>\n",
              "      <td>24.10</td>\n",
              "      <td>1734.65</td>\n",
              "      <td>No</td>\n",
              "    </tr>\n",
              "    <tr>\n",
              "      <th>1</th>\n",
              "      <td>4528</td>\n",
              "      <td>9688-YGXVR</td>\n",
              "      <td>Female</td>\n",
              "      <td>0</td>\n",
              "      <td>No</td>\n",
              "      <td>No</td>\n",
              "      <td>44</td>\n",
              "      <td>Yes</td>\n",
              "      <td>No</td>\n",
              "      <td>Fiber optic</td>\n",
              "      <td>No</td>\n",
              "      <td>Yes</td>\n",
              "      <td>Yes</td>\n",
              "      <td>No</td>\n",
              "      <td>Yes</td>\n",
              "      <td>No</td>\n",
              "      <td>Month-to-month</td>\n",
              "      <td>Yes</td>\n",
              "      <td>Credit card (automatic)</td>\n",
              "      <td>88.15</td>\n",
              "      <td>3973.2</td>\n",
              "      <td>No</td>\n",
              "    </tr>\n",
              "    <tr>\n",
              "      <th>2</th>\n",
              "      <td>6344</td>\n",
              "      <td>9286-DOJGF</td>\n",
              "      <td>Female</td>\n",
              "      <td>1</td>\n",
              "      <td>Yes</td>\n",
              "      <td>No</td>\n",
              "      <td>38</td>\n",
              "      <td>Yes</td>\n",
              "      <td>Yes</td>\n",
              "      <td>Fiber optic</td>\n",
              "      <td>No</td>\n",
              "      <td>No</td>\n",
              "      <td>No</td>\n",
              "      <td>No</td>\n",
              "      <td>No</td>\n",
              "      <td>No</td>\n",
              "      <td>Month-to-month</td>\n",
              "      <td>Yes</td>\n",
              "      <td>Bank transfer (automatic)</td>\n",
              "      <td>74.95</td>\n",
              "      <td>2869.85</td>\n",
              "      <td>Yes</td>\n",
              "    </tr>\n",
              "    <tr>\n",
              "      <th>3</th>\n",
              "      <td>6739</td>\n",
              "      <td>6994-KERXL</td>\n",
              "      <td>Male</td>\n",
              "      <td>0</td>\n",
              "      <td>No</td>\n",
              "      <td>No</td>\n",
              "      <td>4</td>\n",
              "      <td>Yes</td>\n",
              "      <td>No</td>\n",
              "      <td>DSL</td>\n",
              "      <td>No</td>\n",
              "      <td>No</td>\n",
              "      <td>No</td>\n",
              "      <td>No</td>\n",
              "      <td>No</td>\n",
              "      <td>Yes</td>\n",
              "      <td>Month-to-month</td>\n",
              "      <td>Yes</td>\n",
              "      <td>Electronic check</td>\n",
              "      <td>55.90</td>\n",
              "      <td>238.5</td>\n",
              "      <td>No</td>\n",
              "    </tr>\n",
              "    <tr>\n",
              "      <th>4</th>\n",
              "      <td>432</td>\n",
              "      <td>2181-UAESM</td>\n",
              "      <td>Male</td>\n",
              "      <td>0</td>\n",
              "      <td>No</td>\n",
              "      <td>No</td>\n",
              "      <td>2</td>\n",
              "      <td>Yes</td>\n",
              "      <td>No</td>\n",
              "      <td>DSL</td>\n",
              "      <td>Yes</td>\n",
              "      <td>No</td>\n",
              "      <td>Yes</td>\n",
              "      <td>No</td>\n",
              "      <td>No</td>\n",
              "      <td>No</td>\n",
              "      <td>Month-to-month</td>\n",
              "      <td>No</td>\n",
              "      <td>Electronic check</td>\n",
              "      <td>53.45</td>\n",
              "      <td>119.5</td>\n",
              "      <td>No</td>\n",
              "    </tr>\n",
              "  </tbody>\n",
              "</table>\n",
              "</div>"
            ],
            "text/plain": [
              "   Unnamed: 0  customerID  gender  ...  MonthlyCharges TotalCharges Churn\n",
              "0        1869  7010-BRBUU    Male  ...           24.10      1734.65    No\n",
              "1        4528  9688-YGXVR  Female  ...           88.15       3973.2    No\n",
              "2        6344  9286-DOJGF  Female  ...           74.95      2869.85   Yes\n",
              "3        6739  6994-KERXL    Male  ...           55.90        238.5    No\n",
              "4         432  2181-UAESM    Male  ...           53.45        119.5    No\n",
              "\n",
              "[5 rows x 22 columns]"
            ]
          },
          "metadata": {
            "tags": []
          },
          "execution_count": 253
        }
      ]
    },
    {
      "cell_type": "code",
      "metadata": {
        "colab": {
          "base_uri": "https://localhost:8080/"
        },
        "id": "Ox_0Oa7zombO",
        "outputId": "5583104f-c71a-4567-95c5-e9cb7aca3307"
      },
      "source": [
        "dataset.shape"
      ],
      "execution_count": 254,
      "outputs": [
        {
          "output_type": "execute_result",
          "data": {
            "text/plain": [
              "(5986, 22)"
            ]
          },
          "metadata": {
            "tags": []
          },
          "execution_count": 254
        }
      ]
    },
    {
      "cell_type": "markdown",
      "metadata": {
        "id": "ICGV1_tHl506"
      },
      "source": [
        "### Задача №3\n",
        "Для набора данных проведите кодирование одного (произвольного) категориального признака с использованием метода \"weight of evidence (WoE) encoding\"."
      ]
    },
    {
      "cell_type": "code",
      "metadata": {
        "colab": {
          "base_uri": "https://localhost:8080/"
        },
        "id": "q649BWQQl4GP",
        "outputId": "c3f047a3-756e-468c-f02e-b10338c220e0"
      },
      "source": [
        "data_features = list(zip(\n",
        "# признаки\n",
        "[i for i in dataset.columns],\n",
        "zip(\n",
        "    # типы колонок\n",
        "    [str(i) for i in dataset.dtypes],\n",
        "    # проверим есть ли пропущенные значения\n",
        "    [i for i in dataset.isnull().sum()]\n",
        ")))\n",
        "# Признаки с типом данных и количеством пропусков\n",
        "data_features"
      ],
      "execution_count": 255,
      "outputs": [
        {
          "output_type": "execute_result",
          "data": {
            "text/plain": [
              "[('Unnamed: 0', ('int64', 0)),\n",
              " ('customerID', ('object', 0)),\n",
              " ('gender', ('object', 0)),\n",
              " ('SeniorCitizen', ('int64', 0)),\n",
              " ('Partner', ('object', 0)),\n",
              " ('Dependents', ('object', 0)),\n",
              " ('tenure', ('int64', 0)),\n",
              " ('PhoneService', ('object', 0)),\n",
              " ('MultipleLines', ('object', 0)),\n",
              " ('InternetService', ('object', 0)),\n",
              " ('OnlineSecurity', ('object', 0)),\n",
              " ('OnlineBackup', ('object', 0)),\n",
              " ('DeviceProtection', ('object', 0)),\n",
              " ('TechSupport', ('object', 0)),\n",
              " ('StreamingTV', ('object', 0)),\n",
              " ('StreamingMovies', ('object', 0)),\n",
              " ('Contract', ('object', 0)),\n",
              " ('PaperlessBilling', ('object', 0)),\n",
              " ('PaymentMethod', ('object', 0)),\n",
              " ('MonthlyCharges', ('float64', 0)),\n",
              " ('TotalCharges', ('object', 0)),\n",
              " ('Churn', ('object', 0))]"
            ]
          },
          "metadata": {
            "tags": []
          },
          "execution_count": 255
        }
      ]
    },
    {
      "cell_type": "code",
      "metadata": {
        "colab": {
          "base_uri": "https://localhost:8080/",
          "height": 204
        },
        "id": "AnYy0j2-pVbS",
        "outputId": "5126bc79-e0a5-496e-8523-1de639c39728"
      },
      "source": [
        "filtered_columns = ['SeniorCitizen', 'gender', 'tenure', 'InternetService', 'Contract', 'PaymentMethod', 'MonthlyCharges', 'TotalCharges']\n",
        "data = dataset[filtered_columns]\n",
        "data.head()"
      ],
      "execution_count": 256,
      "outputs": [
        {
          "output_type": "execute_result",
          "data": {
            "text/html": [
              "<div>\n",
              "<style scoped>\n",
              "    .dataframe tbody tr th:only-of-type {\n",
              "        vertical-align: middle;\n",
              "    }\n",
              "\n",
              "    .dataframe tbody tr th {\n",
              "        vertical-align: top;\n",
              "    }\n",
              "\n",
              "    .dataframe thead th {\n",
              "        text-align: right;\n",
              "    }\n",
              "</style>\n",
              "<table border=\"1\" class=\"dataframe\">\n",
              "  <thead>\n",
              "    <tr style=\"text-align: right;\">\n",
              "      <th></th>\n",
              "      <th>SeniorCitizen</th>\n",
              "      <th>gender</th>\n",
              "      <th>tenure</th>\n",
              "      <th>InternetService</th>\n",
              "      <th>Contract</th>\n",
              "      <th>PaymentMethod</th>\n",
              "      <th>MonthlyCharges</th>\n",
              "      <th>TotalCharges</th>\n",
              "    </tr>\n",
              "  </thead>\n",
              "  <tbody>\n",
              "    <tr>\n",
              "      <th>0</th>\n",
              "      <td>0</td>\n",
              "      <td>Male</td>\n",
              "      <td>72</td>\n",
              "      <td>No</td>\n",
              "      <td>Two year</td>\n",
              "      <td>Credit card (automatic)</td>\n",
              "      <td>24.10</td>\n",
              "      <td>1734.65</td>\n",
              "    </tr>\n",
              "    <tr>\n",
              "      <th>1</th>\n",
              "      <td>0</td>\n",
              "      <td>Female</td>\n",
              "      <td>44</td>\n",
              "      <td>Fiber optic</td>\n",
              "      <td>Month-to-month</td>\n",
              "      <td>Credit card (automatic)</td>\n",
              "      <td>88.15</td>\n",
              "      <td>3973.2</td>\n",
              "    </tr>\n",
              "    <tr>\n",
              "      <th>2</th>\n",
              "      <td>1</td>\n",
              "      <td>Female</td>\n",
              "      <td>38</td>\n",
              "      <td>Fiber optic</td>\n",
              "      <td>Month-to-month</td>\n",
              "      <td>Bank transfer (automatic)</td>\n",
              "      <td>74.95</td>\n",
              "      <td>2869.85</td>\n",
              "    </tr>\n",
              "    <tr>\n",
              "      <th>3</th>\n",
              "      <td>0</td>\n",
              "      <td>Male</td>\n",
              "      <td>4</td>\n",
              "      <td>DSL</td>\n",
              "      <td>Month-to-month</td>\n",
              "      <td>Electronic check</td>\n",
              "      <td>55.90</td>\n",
              "      <td>238.5</td>\n",
              "    </tr>\n",
              "    <tr>\n",
              "      <th>4</th>\n",
              "      <td>0</td>\n",
              "      <td>Male</td>\n",
              "      <td>2</td>\n",
              "      <td>DSL</td>\n",
              "      <td>Month-to-month</td>\n",
              "      <td>Electronic check</td>\n",
              "      <td>53.45</td>\n",
              "      <td>119.5</td>\n",
              "    </tr>\n",
              "  </tbody>\n",
              "</table>\n",
              "</div>"
            ],
            "text/plain": [
              "   SeniorCitizen  gender  ...  MonthlyCharges TotalCharges\n",
              "0              0    Male  ...           24.10      1734.65\n",
              "1              0  Female  ...           88.15       3973.2\n",
              "2              1  Female  ...           74.95      2869.85\n",
              "3              0    Male  ...           55.90        238.5\n",
              "4              0    Male  ...           53.45        119.5\n",
              "\n",
              "[5 rows x 8 columns]"
            ]
          },
          "metadata": {
            "tags": []
          },
          "execution_count": 256
        }
      ]
    },
    {
      "cell_type": "code",
      "metadata": {
        "colab": {
          "base_uri": "https://localhost:8080/"
        },
        "id": "KitDkbRPuLE1",
        "outputId": "5d5b9337-98e0-4a5b-a2bb-dbf8aed567dc"
      },
      "source": [
        "!pip install category_encoders\n",
        "from category_encoders.woe import WOEEncoder as ce_WOEEncoder"
      ],
      "execution_count": 257,
      "outputs": [
        {
          "output_type": "stream",
          "text": [
            "Requirement already satisfied: category_encoders in /usr/local/lib/python3.7/dist-packages (2.2.2)\n",
            "Requirement already satisfied: statsmodels>=0.9.0 in /usr/local/lib/python3.7/dist-packages (from category_encoders) (0.10.2)\n",
            "Requirement already satisfied: scikit-learn>=0.20.0 in /usr/local/lib/python3.7/dist-packages (from category_encoders) (0.22.2.post1)\n",
            "Requirement already satisfied: pandas>=0.21.1 in /usr/local/lib/python3.7/dist-packages (from category_encoders) (1.1.5)\n",
            "Requirement already satisfied: patsy>=0.5.1 in /usr/local/lib/python3.7/dist-packages (from category_encoders) (0.5.1)\n",
            "Requirement already satisfied: scipy>=1.0.0 in /usr/local/lib/python3.7/dist-packages (from category_encoders) (1.4.1)\n",
            "Requirement already satisfied: numpy>=1.14.0 in /usr/local/lib/python3.7/dist-packages (from category_encoders) (1.19.5)\n",
            "Requirement already satisfied: joblib>=0.11 in /usr/local/lib/python3.7/dist-packages (from scikit-learn>=0.20.0->category_encoders) (1.0.1)\n",
            "Requirement already satisfied: pytz>=2017.2 in /usr/local/lib/python3.7/dist-packages (from pandas>=0.21.1->category_encoders) (2018.9)\n",
            "Requirement already satisfied: python-dateutil>=2.7.3 in /usr/local/lib/python3.7/dist-packages (from pandas>=0.21.1->category_encoders) (2.8.1)\n",
            "Requirement already satisfied: six in /usr/local/lib/python3.7/dist-packages (from patsy>=0.5.1->category_encoders) (1.15.0)\n"
          ],
          "name": "stdout"
        }
      ]
    },
    {
      "cell_type": "code",
      "metadata": {
        "colab": {
          "base_uri": "https://localhost:8080/"
        },
        "id": "gwl_SzDuukVW",
        "outputId": "cf98580d-ebd5-4ef4-8e68-9ae3a3faf898"
      },
      "source": [
        "ce_WOEEncoder1 = ce_WOEEncoder()\n",
        "data_WOE_ENC = ce_WOEEncoder1.fit_transform(data[data.columns.difference(['SeniorCitizen'])], data['SeniorCitizen'])"
      ],
      "execution_count": 258,
      "outputs": [
        {
          "output_type": "stream",
          "text": [
            "/usr/local/lib/python3.7/dist-packages/category_encoders/utils.py:21: FutureWarning: is_categorical is deprecated and will be removed in a future version.  Use is_categorical_dtype instead\n",
            "  elif pd.api.types.is_categorical(cols):\n"
          ],
          "name": "stderr"
        }
      ]
    },
    {
      "cell_type": "code",
      "metadata": {
        "colab": {
          "base_uri": "https://localhost:8080/"
        },
        "id": "zgLhFI4TFXOV",
        "outputId": "9bce2c0b-4d11-47ce-d974-01a6045ea95d"
      },
      "source": [
        "data['InternetService'].unique()"
      ],
      "execution_count": 259,
      "outputs": [
        {
          "output_type": "execute_result",
          "data": {
            "text/plain": [
              "array(['No', 'Fiber optic', 'DSL'], dtype=object)"
            ]
          },
          "metadata": {
            "tags": []
          },
          "execution_count": 259
        }
      ]
    },
    {
      "cell_type": "code",
      "metadata": {
        "colab": {
          "base_uri": "https://localhost:8080/"
        },
        "id": "296UcD8zUzlA",
        "outputId": "0c8f4e25-9713-41fe-e382-a17fff12287d"
      },
      "source": [
        "data_WOE_ENC['InternetService'].unique()"
      ],
      "execution_count": 260,
      "outputs": [
        {
          "output_type": "execute_result",
          "data": {
            "text/plain": [
              "array([-1.74767744,  0.64238762, -0.47283042])"
            ]
          },
          "metadata": {
            "tags": []
          },
          "execution_count": 260
        }
      ]
    },
    {
      "cell_type": "code",
      "metadata": {
        "id": "bkDydp-oU4JU"
      },
      "source": [
        "def check_woe_encoding(field):\n",
        "    data_ones = data[data['SeniorCitizen'] == 1].shape[0]\n",
        "    data_zeros = data[data['SeniorCitizen'] == 0].shape[0]\n",
        "    \n",
        "    for s in data[field].unique():\n",
        "        data_filter = data[data[field]==s]\n",
        "        if data_filter.shape[0] > 0:\n",
        "            \n",
        "            filter_data_ones = data_filter[data_filter['SeniorCitizen'] == 1].shape[0]\n",
        "            filter_data_zeros = data_filter[data_filter['SeniorCitizen'] == 0].shape[0]\n",
        "\n",
        "            good = filter_data_ones / data_ones\n",
        "            bad = filter_data_zeros / data_zeros\n",
        "            \n",
        "            woe = np.log(good/bad)\n",
        "            print(s, '-' , woe)"
      ],
      "execution_count": 261,
      "outputs": []
    },
    {
      "cell_type": "code",
      "metadata": {
        "id": "u6ehYtObZGat",
        "colab": {
          "base_uri": "https://localhost:8080/"
        },
        "outputId": "fcba843d-34ce-41e2-ef73-d45a84d01f6f"
      },
      "source": [
        "check_woe_encoding('InternetService')"
      ],
      "execution_count": 262,
      "outputs": [
        {
          "output_type": "stream",
          "text": [
            "No - -1.769305385118782\n",
            "Fiber optic - 0.6431579890425195\n",
            "DSL - -0.47513390020823026\n"
          ],
          "name": "stdout"
        }
      ]
    },
    {
      "cell_type": "markdown",
      "metadata": {
        "id": "rUP-8YHBfV5g"
      },
      "source": [
        "### Задача №23\n",
        "Для набора данных для одного (произвольного) числового признака проведите обнаружение и удаление выбросов на основе правила трех сигм."
      ]
    },
    {
      "cell_type": "code",
      "metadata": {
        "id": "wOxQ1HHMmZmQ"
      },
      "source": [
        "dataset2 = pd.read_csv(path+'/Video_Games_Sales.csv')"
      ],
      "execution_count": 263,
      "outputs": []
    },
    {
      "cell_type": "code",
      "metadata": {
        "colab": {
          "base_uri": "https://localhost:8080/",
          "height": 292
        },
        "id": "iqVaheIvmdeX",
        "outputId": "b16a2428-7979-45f8-c9a8-130d9982e619"
      },
      "source": [
        "dataset2.head()"
      ],
      "execution_count": 264,
      "outputs": [
        {
          "output_type": "execute_result",
          "data": {
            "text/html": [
              "<div>\n",
              "<style scoped>\n",
              "    .dataframe tbody tr th:only-of-type {\n",
              "        vertical-align: middle;\n",
              "    }\n",
              "\n",
              "    .dataframe tbody tr th {\n",
              "        vertical-align: top;\n",
              "    }\n",
              "\n",
              "    .dataframe thead th {\n",
              "        text-align: right;\n",
              "    }\n",
              "</style>\n",
              "<table border=\"1\" class=\"dataframe\">\n",
              "  <thead>\n",
              "    <tr style=\"text-align: right;\">\n",
              "      <th></th>\n",
              "      <th>Name</th>\n",
              "      <th>Platform</th>\n",
              "      <th>Year_of_Release</th>\n",
              "      <th>Genre</th>\n",
              "      <th>Publisher</th>\n",
              "      <th>NA_Sales</th>\n",
              "      <th>EU_Sales</th>\n",
              "      <th>JP_Sales</th>\n",
              "      <th>Other_Sales</th>\n",
              "      <th>Global_Sales</th>\n",
              "      <th>Critic_Score</th>\n",
              "      <th>Critic_Count</th>\n",
              "      <th>User_Score</th>\n",
              "      <th>User_Count</th>\n",
              "      <th>Developer</th>\n",
              "      <th>Rating</th>\n",
              "    </tr>\n",
              "  </thead>\n",
              "  <tbody>\n",
              "    <tr>\n",
              "      <th>0</th>\n",
              "      <td>Wii Sports</td>\n",
              "      <td>Wii</td>\n",
              "      <td>2006.0</td>\n",
              "      <td>Sports</td>\n",
              "      <td>Nintendo</td>\n",
              "      <td>41.36</td>\n",
              "      <td>28.96</td>\n",
              "      <td>3.77</td>\n",
              "      <td>8.45</td>\n",
              "      <td>82.53</td>\n",
              "      <td>76.0</td>\n",
              "      <td>51.0</td>\n",
              "      <td>8</td>\n",
              "      <td>322.0</td>\n",
              "      <td>Nintendo</td>\n",
              "      <td>E</td>\n",
              "    </tr>\n",
              "    <tr>\n",
              "      <th>1</th>\n",
              "      <td>Super Mario Bros.</td>\n",
              "      <td>NES</td>\n",
              "      <td>1985.0</td>\n",
              "      <td>Platform</td>\n",
              "      <td>Nintendo</td>\n",
              "      <td>29.08</td>\n",
              "      <td>3.58</td>\n",
              "      <td>6.81</td>\n",
              "      <td>0.77</td>\n",
              "      <td>40.24</td>\n",
              "      <td>NaN</td>\n",
              "      <td>NaN</td>\n",
              "      <td>NaN</td>\n",
              "      <td>NaN</td>\n",
              "      <td>NaN</td>\n",
              "      <td>NaN</td>\n",
              "    </tr>\n",
              "    <tr>\n",
              "      <th>2</th>\n",
              "      <td>Mario Kart Wii</td>\n",
              "      <td>Wii</td>\n",
              "      <td>2008.0</td>\n",
              "      <td>Racing</td>\n",
              "      <td>Nintendo</td>\n",
              "      <td>15.68</td>\n",
              "      <td>12.76</td>\n",
              "      <td>3.79</td>\n",
              "      <td>3.29</td>\n",
              "      <td>35.52</td>\n",
              "      <td>82.0</td>\n",
              "      <td>73.0</td>\n",
              "      <td>8.3</td>\n",
              "      <td>709.0</td>\n",
              "      <td>Nintendo</td>\n",
              "      <td>E</td>\n",
              "    </tr>\n",
              "    <tr>\n",
              "      <th>3</th>\n",
              "      <td>Wii Sports Resort</td>\n",
              "      <td>Wii</td>\n",
              "      <td>2009.0</td>\n",
              "      <td>Sports</td>\n",
              "      <td>Nintendo</td>\n",
              "      <td>15.61</td>\n",
              "      <td>10.93</td>\n",
              "      <td>3.28</td>\n",
              "      <td>2.95</td>\n",
              "      <td>32.77</td>\n",
              "      <td>80.0</td>\n",
              "      <td>73.0</td>\n",
              "      <td>8</td>\n",
              "      <td>192.0</td>\n",
              "      <td>Nintendo</td>\n",
              "      <td>E</td>\n",
              "    </tr>\n",
              "    <tr>\n",
              "      <th>4</th>\n",
              "      <td>Pokemon Red/Pokemon Blue</td>\n",
              "      <td>GB</td>\n",
              "      <td>1996.0</td>\n",
              "      <td>Role-Playing</td>\n",
              "      <td>Nintendo</td>\n",
              "      <td>11.27</td>\n",
              "      <td>8.89</td>\n",
              "      <td>10.22</td>\n",
              "      <td>1.00</td>\n",
              "      <td>31.37</td>\n",
              "      <td>NaN</td>\n",
              "      <td>NaN</td>\n",
              "      <td>NaN</td>\n",
              "      <td>NaN</td>\n",
              "      <td>NaN</td>\n",
              "      <td>NaN</td>\n",
              "    </tr>\n",
              "  </tbody>\n",
              "</table>\n",
              "</div>"
            ],
            "text/plain": [
              "                       Name Platform  ...  Developer Rating\n",
              "0                Wii Sports      Wii  ...   Nintendo      E\n",
              "1         Super Mario Bros.      NES  ...        NaN    NaN\n",
              "2            Mario Kart Wii      Wii  ...   Nintendo      E\n",
              "3         Wii Sports Resort      Wii  ...   Nintendo      E\n",
              "4  Pokemon Red/Pokemon Blue       GB  ...        NaN    NaN\n",
              "\n",
              "[5 rows x 16 columns]"
            ]
          },
          "metadata": {
            "tags": []
          },
          "execution_count": 264
        }
      ]
    },
    {
      "cell_type": "code",
      "metadata": {
        "colab": {
          "base_uri": "https://localhost:8080/",
          "height": 204
        },
        "id": "hNPkXArnnJNH",
        "outputId": "7435112d-2fac-4249-9a5c-29334c24db8a"
      },
      "source": [
        "filtered2_columns = ['Name', 'Platform', 'Year_of_Release', 'Genre', 'NA_Sales', 'EU_Sales', 'JP_Sales', 'Global_Sales', 'Other_Sales']\n",
        "data2 = dataset2[filtered2_columns]\n",
        "data2.head()"
      ],
      "execution_count": 281,
      "outputs": [
        {
          "output_type": "execute_result",
          "data": {
            "text/html": [
              "<div>\n",
              "<style scoped>\n",
              "    .dataframe tbody tr th:only-of-type {\n",
              "        vertical-align: middle;\n",
              "    }\n",
              "\n",
              "    .dataframe tbody tr th {\n",
              "        vertical-align: top;\n",
              "    }\n",
              "\n",
              "    .dataframe thead th {\n",
              "        text-align: right;\n",
              "    }\n",
              "</style>\n",
              "<table border=\"1\" class=\"dataframe\">\n",
              "  <thead>\n",
              "    <tr style=\"text-align: right;\">\n",
              "      <th></th>\n",
              "      <th>Name</th>\n",
              "      <th>Platform</th>\n",
              "      <th>Year_of_Release</th>\n",
              "      <th>Genre</th>\n",
              "      <th>NA_Sales</th>\n",
              "      <th>EU_Sales</th>\n",
              "      <th>JP_Sales</th>\n",
              "      <th>Global_Sales</th>\n",
              "      <th>Other_Sales</th>\n",
              "    </tr>\n",
              "  </thead>\n",
              "  <tbody>\n",
              "    <tr>\n",
              "      <th>0</th>\n",
              "      <td>Wii Sports</td>\n",
              "      <td>Wii</td>\n",
              "      <td>2006.0</td>\n",
              "      <td>Sports</td>\n",
              "      <td>41.36</td>\n",
              "      <td>28.96</td>\n",
              "      <td>3.77</td>\n",
              "      <td>82.53</td>\n",
              "      <td>8.45</td>\n",
              "    </tr>\n",
              "    <tr>\n",
              "      <th>1</th>\n",
              "      <td>Super Mario Bros.</td>\n",
              "      <td>NES</td>\n",
              "      <td>1985.0</td>\n",
              "      <td>Platform</td>\n",
              "      <td>29.08</td>\n",
              "      <td>3.58</td>\n",
              "      <td>6.81</td>\n",
              "      <td>40.24</td>\n",
              "      <td>0.77</td>\n",
              "    </tr>\n",
              "    <tr>\n",
              "      <th>2</th>\n",
              "      <td>Mario Kart Wii</td>\n",
              "      <td>Wii</td>\n",
              "      <td>2008.0</td>\n",
              "      <td>Racing</td>\n",
              "      <td>15.68</td>\n",
              "      <td>12.76</td>\n",
              "      <td>3.79</td>\n",
              "      <td>35.52</td>\n",
              "      <td>3.29</td>\n",
              "    </tr>\n",
              "    <tr>\n",
              "      <th>3</th>\n",
              "      <td>Wii Sports Resort</td>\n",
              "      <td>Wii</td>\n",
              "      <td>2009.0</td>\n",
              "      <td>Sports</td>\n",
              "      <td>15.61</td>\n",
              "      <td>10.93</td>\n",
              "      <td>3.28</td>\n",
              "      <td>32.77</td>\n",
              "      <td>2.95</td>\n",
              "    </tr>\n",
              "    <tr>\n",
              "      <th>4</th>\n",
              "      <td>Pokemon Red/Pokemon Blue</td>\n",
              "      <td>GB</td>\n",
              "      <td>1996.0</td>\n",
              "      <td>Role-Playing</td>\n",
              "      <td>11.27</td>\n",
              "      <td>8.89</td>\n",
              "      <td>10.22</td>\n",
              "      <td>31.37</td>\n",
              "      <td>1.00</td>\n",
              "    </tr>\n",
              "  </tbody>\n",
              "</table>\n",
              "</div>"
            ],
            "text/plain": [
              "                       Name Platform  ...  Global_Sales Other_Sales\n",
              "0                Wii Sports      Wii  ...         82.53        8.45\n",
              "1         Super Mario Bros.      NES  ...         40.24        0.77\n",
              "2            Mario Kart Wii      Wii  ...         35.52        3.29\n",
              "3         Wii Sports Resort      Wii  ...         32.77        2.95\n",
              "4  Pokemon Red/Pokemon Blue       GB  ...         31.37        1.00\n",
              "\n",
              "[5 rows x 9 columns]"
            ]
          },
          "metadata": {
            "tags": []
          },
          "execution_count": 281
        }
      ]
    },
    {
      "cell_type": "code",
      "metadata": {
        "id": "qiy3-50LjgKn"
      },
      "source": [
        "x_col_list = ['JP_Sales']"
      ],
      "execution_count": 266,
      "outputs": []
    },
    {
      "cell_type": "code",
      "metadata": {
        "id": "PmrTv5lbj1Y0"
      },
      "source": [
        "# Функция построения графиков - ящики с усами\n",
        "def diagnostic_plots(df, variable, title):\n",
        "    fig, ax = plt.subplots(figsize=(15,7))\n",
        "    # ящик с усами\n",
        "    plt.subplot(2, 2, 3)\n",
        "    sns.violinplot(x=df[variable])    \n",
        "    # ящик с усами\n",
        "    plt.subplot(2, 2, 4)\n",
        "    sns.boxplot(x=df[variable])  \n",
        "    fig.suptitle(title)\n",
        "    plt.show()"
      ],
      "execution_count": 267,
      "outputs": []
    },
    {
      "cell_type": "code",
      "metadata": {
        "colab": {
          "base_uri": "https://localhost:8080/",
          "height": 494
        },
        "id": "xic6GNS6j3Kd",
        "outputId": "fd16faf0-18fa-4577-90ad-8b102c5fa15b"
      },
      "source": [
        "diagnostic_plots(dataset2, 'JP_Sales', 'JP_Sales - original')"
      ],
      "execution_count": 268,
      "outputs": [
        {
          "output_type": "display_data",
          "data": {
            "image/png": "[encoded data removed]",
            "text/plain": [
              "<Figure size 1080x504 with 2 Axes>"
            ]
          },
          "metadata": {
            "tags": [],
            "needs_background": "light"
          }
        }
      ]
    },
    {
      "cell_type": "code",
      "metadata": {
        "id": "knd52n5qfiR5"
      },
      "source": [
        "from enum import Enum\n",
        "class OutlierBoundaryType(Enum):\n",
        "    SIGMA = 1"
      ],
      "execution_count": 269,
      "outputs": []
    },
    {
      "cell_type": "code",
      "metadata": {
        "id": "qWbFLBTfjNgt"
      },
      "source": [
        "def get_outlier_boundaries(df, col, outlier_boundary_type: OutlierBoundaryType):\n",
        "    if outlier_boundary_type == OutlierBoundaryType.SIGMA:\n",
        "        K1 = 3\n",
        "        lower_boundary = df[col].mean() - (K1 * df[col].std())\n",
        "        upper_boundary = df[col].mean() + (K1 * df[col].std())\n",
        "\n",
        "    else:\n",
        "        raise NameError('Unknown Outlier Boundary Type')\n",
        "        \n",
        "    return lower_boundary, upper_boundary"
      ],
      "execution_count": 270,
      "outputs": []
    },
    {
      "cell_type": "code",
      "metadata": {
        "colab": {
          "base_uri": "https://localhost:8080/"
        },
        "id": "ggQ2Dno3k4Ct",
        "outputId": "d04e8517-8d3c-405c-d0b7-9f7d43f53a27"
      },
      "source": [
        "data2.shape"
      ],
      "execution_count": 271,
      "outputs": [
        {
          "output_type": "execute_result",
          "data": {
            "text/plain": [
              "(16719, 7)"
            ]
          },
          "metadata": {
            "tags": []
          },
          "execution_count": 271
        }
      ]
    },
    {
      "cell_type": "code",
      "metadata": {
        "colab": {
          "base_uri": "https://localhost:8080/",
          "height": 494
        },
        "id": "ssdmDR-ojQ88",
        "outputId": "7b7cc757-e537-4afc-cec6-4548b2da0026"
      },
      "source": [
        "for col in x_col_list:    \n",
        "    for obt in OutlierBoundaryType:\n",
        "        # Вычисление верхней и нижней границы\n",
        "        lower_boundary, upper_boundary = get_outlier_boundaries(data2, col, obt)\n",
        "        # Флаги для удаления выбросов\n",
        "        outliers_temp = np.where(data2[col] > upper_boundary, True, \n",
        "                                 np.where(data2[col] < lower_boundary, True, False))\n",
        "        # Удаление данных на основе флага\n",
        "        data_trimmed = data2.loc[~(outliers_temp), ]  \n",
        "        title = 'Поле-{}, метод-{}, строк-{}'.format(col, obt, data_trimmed.shape[0])\n",
        "        diagnostic_plots(data_trimmed, col, title)"
      ],
      "execution_count": 272,
      "outputs": [
        {
          "output_type": "display_data",
          "data": {
            "image/png": "[encoded data removed]",
            "text/plain": [
              "<Figure size 1080x504 with 2 Axes>"
            ]
          },
          "metadata": {
            "tags": [],
            "needs_background": "light"
          }
        }
      ]
    },
    {
      "cell_type": "markdown",
      "metadata": {
        "id": "cYy4daoQpztm"
      },
      "source": [
        "### График \"Диаграмма рассеяния\"\n",
        "#### используя датасет с видео играми"
      ]
    },
    {
      "cell_type": "code",
      "metadata": {
        "colab": {
          "base_uri": "https://localhost:8080/",
          "height": 606
        },
        "id": "gAxrwtMwo8Ry",
        "outputId": "97a9e201-aa65-4d27-a2a3-dddb89277dbd"
      },
      "source": [
        "sales_data_year = data2.groupby(by=\"Platform\").sum()\n",
        "plt.figure(figsize=(13,10))\n",
        "ax = sns.scatterplot(x=sales_data_year[\"Other_Sales\"], y=sales_data_year[\"NA_Sales\"], data=sales_data_year, s=75, hue=\"Platform\", palette=\"deep\")\n",
        "plt.show()"
      ],
      "execution_count": 346,
      "outputs": [
        {
          "output_type": "display_data",
          "data": {
            "image/png": "[encoded data removed]",
            "text/plain": [
              "<Figure size 936x720 with 1 Axes>"
            ]
          },
          "metadata": {
            "tags": [],
            "needs_background": "light"
          }
        }
      ]
    },
    {
      "cell_type": "code",
      "metadata": {
        "id": "cNSTZNTrq4nP"
      },
      "source": [
        ""
      ],
      "execution_count": null,
      "outputs": []
    }
  ]
}